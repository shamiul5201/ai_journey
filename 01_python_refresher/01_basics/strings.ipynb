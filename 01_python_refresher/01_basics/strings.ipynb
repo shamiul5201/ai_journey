{
 "cells": [
  {
   "cell_type": "markdown",
   "id": "945074b7-577c-4015-ad9b-d3cd7d9a9761",
   "metadata": {},
   "source": [
    "# Strings and formatting"
   ]
  },
  {
   "cell_type": "markdown",
   "id": "ef61bc94-22b3-4da8-8b51-a8748b5c5d65",
   "metadata": {},
   "source": [
    "### Concatenation"
   ]
  },
  {
   "cell_type": "code",
   "execution_count": 1,
   "id": "b430cad3-3450-49fa-81b8-d0e52e5cb01d",
   "metadata": {},
   "outputs": [
    {
     "name": "stdout",
     "output_type": "stream",
     "text": [
      "Hello World!\n"
     ]
    }
   ],
   "source": [
    "greeting = \"Hello \" + \"World!\"\n",
    "print(greeting)"
   ]
  },
  {
   "cell_type": "markdown",
   "id": "9010f124-9edf-421a-80b9-60ddd0a51014",
   "metadata": {},
   "source": [
    "### f-string (modern and clean)"
   ]
  },
  {
   "cell_type": "code",
   "execution_count": 2,
   "id": "a445636b-ae5f-4f03-8bb7-2029f40f134c",
   "metadata": {},
   "outputs": [
    {
     "name": "stdout",
     "output_type": "stream",
     "text": [
      "Shamiul is learning Python again\n"
     ]
    }
   ],
   "source": [
    "name = \"Shamiul\"\n",
    "language = \"Python\"\n",
    "print(f\"{name} is learning {language} again\")"
   ]
  },
  {
   "cell_type": "markdown",
   "id": "368bd5d6-8905-4dfd-8455-1d0a8ada4029",
   "metadata": {},
   "source": [
    "### string methods"
   ]
  },
  {
   "cell_type": "code",
   "execution_count": 4,
   "id": "7e76b168-109f-48a8-b7b1-bcefd178fe08",
   "metadata": {},
   "outputs": [
    {
     "name": "stdout",
     "output_type": "stream",
     "text": [
      " PYTHON IS FUN\n",
      " python is fun\n",
      " Python Is Fun\n",
      " python is awesome\n"
     ]
    }
   ],
   "source": [
    "msg = \" python is FUN\"\n",
    "\n",
    "print(msg.upper())\n",
    "print(msg.lower())\n",
    "print(msg.title())\n",
    "print(msg.replace(\"FUN\", \"awesome\"))"
   ]
  },
  {
   "cell_type": "markdown",
   "id": "3a4622b3-2b41-4a48-8c35-0358ef1df438",
   "metadata": {},
   "source": [
    "### Multiline strings"
   ]
  },
  {
   "cell_type": "code",
   "execution_count": 5,
   "id": "2842a561-55e0-4d4a-9eed-bc5fcc35cff1",
   "metadata": {},
   "outputs": [
    {
     "name": "stdout",
     "output_type": "stream",
     "text": [
      "This is a\n",
      "multiline string example.\n"
     ]
    }
   ],
   "source": [
    "quote = \"\"\"This is a\n",
    "multiline string example.\"\"\"\n",
    "print(quote)"
   ]
  }
 ],
 "metadata": {
  "kernelspec": {
   "display_name": "Python 3 (ipykernel)",
   "language": "python",
   "name": "python3"
  },
  "language_info": {
   "codemirror_mode": {
    "name": "ipython",
    "version": 3
   },
   "file_extension": ".py",
   "mimetype": "text/x-python",
   "name": "python",
   "nbconvert_exporter": "python",
   "pygments_lexer": "ipython3",
   "version": "3.13.5"
  }
 },
 "nbformat": 4,
 "nbformat_minor": 5
}
