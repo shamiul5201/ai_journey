{
 "cells": [
  {
   "cell_type": "markdown",
   "id": "aadc5c54-2859-4b6c-a40c-3299ec98d085",
   "metadata": {},
   "source": [
    "# Variables & Data Types "
   ]
  },
  {
   "cell_type": "code",
   "execution_count": 3,
   "id": "1511d018-ffab-4258-b1c4-7b5a736cdea3",
   "metadata": {},
   "outputs": [
    {
     "name": "stdout",
     "output_type": "stream",
     "text": [
      "Name: Shamiul, Age: 25, Height: [heheight], Deveoper: True\n"
     ]
    }
   ],
   "source": [
    "# python is dynamically typed\n",
    "\n",
    "name = \"Shamiul\"\n",
    "age = 25\n",
    "height = 5.11\n",
    "is_developer = True\n",
    "\n",
    "print(f\"Name: {name}, Age: {age}, Height: [heheight], Deveoper: {is_developer}\")"
   ]
  },
  {
   "cell_type": "code",
   "execution_count": 4,
   "id": "53f668a9-9d64-48d5-b775-f310157f51a2",
   "metadata": {},
   "outputs": [
    {
     "name": "stdout",
     "output_type": "stream",
     "text": [
      "<class 'str'>\n",
      "<class 'int'>\n",
      "<class 'float'>\n",
      "<class 'bool'>\n"
     ]
    }
   ],
   "source": [
    "# Type checking\n",
    "print(type(name))\n",
    "print(type(age))\n",
    "print(type(height))\n",
    "print(type(is_developer))"
   ]
  },
  {
   "cell_type": "code",
   "execution_count": 5,
   "id": "84d8afbe-749c-43bf-8218-e1c78c19d624",
   "metadata": {},
   "outputs": [
    {
     "name": "stdout",
     "output_type": "stream",
     "text": [
      "10 20 30\n"
     ]
    }
   ],
   "source": [
    "# Multiple assignment\n",
    "x, y, z = 10, 20, 30\n",
    "print(x, y, z)"
   ]
  },
  {
   "cell_type": "code",
   "execution_count": 6,
   "id": "00496f8d-2aee-49a4-a3ad-9fa73e24a5bf",
   "metadata": {},
   "outputs": [
    {
     "name": "stdout",
     "output_type": "stream",
     "text": [
      "PI:3.1416\n"
     ]
    }
   ],
   "source": [
    "PI = 3.1416\n",
    "print(f\"PI:{PI}\")"
   ]
  }
 ],
 "metadata": {
  "kernelspec": {
   "display_name": "Python 3 (ipykernel)",
   "language": "python",
   "name": "python3"
  },
  "language_info": {
   "codemirror_mode": {
    "name": "ipython",
    "version": 3
   },
   "file_extension": ".py",
   "mimetype": "text/x-python",
   "name": "python",
   "nbconvert_exporter": "python",
   "pygments_lexer": "ipython3",
   "version": "3.13.5"
  }
 },
 "nbformat": 4,
 "nbformat_minor": 5
}
