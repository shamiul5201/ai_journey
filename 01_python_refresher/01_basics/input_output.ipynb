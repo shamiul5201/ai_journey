{
 "cells": [
  {
   "cell_type": "markdown",
   "id": "ae0e438f-a107-4b25-9a4d-6e8a6eff1913",
   "metadata": {},
   "source": [
    "# Input & Output"
   ]
  },
  {
   "cell_type": "markdown",
   "id": "f01b295c-960e-47cb-bda9-82ba88382a93",
   "metadata": {},
   "source": [
    "#### Get user input (always returns a string)"
   ]
  },
  {
   "cell_type": "code",
   "execution_count": 1,
   "id": "b07deaeb-9857-4463-884d-d94548d8f754",
   "metadata": {},
   "outputs": [
    {
     "name": "stdin",
     "output_type": "stream",
     "text": [
      "Enter your name:  shamiul\n"
     ]
    },
    {
     "name": "stdout",
     "output_type": "stream",
     "text": [
      "Hello, shamiul\n"
     ]
    }
   ],
   "source": [
    "user_name = input(\"Enter your name: \")\n",
    "print(f\"Hello, {user_name}\")"
   ]
  },
  {
   "cell_type": "markdown",
   "id": "c87b4da8-e33b-4ffa-9dbd-c98b33f67963",
   "metadata": {},
   "source": [
    "#### convert input to int"
   ]
  },
  {
   "cell_type": "code",
   "execution_count": 2,
   "id": "71195372-21fb-4ccc-87de-dd00b6501370",
   "metadata": {},
   "outputs": [
    {
     "name": "stdin",
     "output_type": "stream",
     "text": [
      "Enter your age: 25\n"
     ]
    },
    {
     "name": "stdout",
     "output_type": "stream",
     "text": [
      "Next year, you will be 26 years old\n"
     ]
    }
   ],
   "source": [
    "\n",
    "age = int(input(\"Enter your age:\"))\n",
    "print(f\"Next year, you will be {age + 1} years old\")"
   ]
  },
  {
   "cell_type": "markdown",
   "id": "41f50ffe-e775-4311-894f-1e1fb45e1354",
   "metadata": {},
   "source": [
    "#### Using sep and end parameters in print"
   ]
  },
  {
   "cell_type": "code",
   "execution_count": 3,
   "id": "9368e27d-783d-4d99-a45b-ab9e64ed12cd",
   "metadata": {},
   "outputs": [
    {
     "name": "stdout",
     "output_type": "stream",
     "text": [
      "Python is awesome\n"
     ]
    }
   ],
   "source": [
    "print(\"Python\", \"is\", \"awesome\")"
   ]
  },
  {
   "cell_type": "code",
   "execution_count": 4,
   "id": "90d606f1-e9fa-471a-807b-7aec85b93b6a",
   "metadata": {},
   "outputs": [
    {
     "name": "stdout",
     "output_type": "stream",
     "text": [
      "Python - is - awesome\n"
     ]
    }
   ],
   "source": [
    "print(\"Python\", \"is\", \"awesome\", sep =\" - \")"
   ]
  },
  {
   "cell_type": "code",
   "execution_count": 5,
   "id": "f1345cf4-29e5-4175-a581-f3d5e74761a9",
   "metadata": {},
   "outputs": [
    {
     "name": "stdout",
     "output_type": "stream",
     "text": [
      "This will be on one line\n"
     ]
    }
   ],
   "source": [
    "print(\"This will be on one line\")"
   ]
  },
  {
   "cell_type": "code",
   "execution_count": 7,
   "id": "e44dade7-4601-40a4-820e-c4bf4158f706",
   "metadata": {},
   "outputs": [
    {
     "name": "stdout",
     "output_type": "stream",
     "text": [
      "This will be on one line because of end=' '\n"
     ]
    }
   ],
   "source": [
    "print(\"This will be on one line\", end = \" \")\n",
    "print(\"because of end=' '\")"
   ]
  }
 ],
 "metadata": {
  "kernelspec": {
   "display_name": "Python 3 (ipykernel)",
   "language": "python",
   "name": "python3"
  },
  "language_info": {
   "codemirror_mode": {
    "name": "ipython",
    "version": 3
   },
   "file_extension": ".py",
   "mimetype": "text/x-python",
   "name": "python",
   "nbconvert_exporter": "python",
   "pygments_lexer": "ipython3",
   "version": "3.13.5"
  }
 },
 "nbformat": 4,
 "nbformat_minor": 5
}
