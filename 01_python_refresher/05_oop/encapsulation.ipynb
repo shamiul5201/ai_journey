{
 "cells": [
  {
   "cell_type": "markdown",
   "id": "bcf141f5-5792-41ca-a33d-1753f04ba4ff",
   "metadata": {},
   "source": [
    "# Encapsulation (Data Protection)"
   ]
  },
  {
   "cell_type": "code",
   "execution_count": 2,
   "id": "de377628-d089-4d8c-8ec3-ff0387178d41",
   "metadata": {},
   "outputs": [],
   "source": [
    "class BankAccount:\n",
    "    def __init__(self, owner, balance):\n",
    "        self.owner = owner\n",
    "        self.__balance = balance # Private variable\n",
    "\n",
    "    def deposit(self, amount):\n",
    "        self.__balance += amount\n",
    "        print(f\"Deposited ${amount}\")\n",
    "\n",
    "    def withdraw(self, amount):\n",
    "        if amount <= self.__balance:\n",
    "            self.__balance -= amount\n",
    "            print(f\"Withdrew ${amount}\")\n",
    "        else:\n",
    "            print(\"Insufficient fund\")\n",
    "\n",
    "    def get_balance(self):\n",
    "        return self.__balance\n",
    "    \n",
    "        "
   ]
  },
  {
   "cell_type": "code",
   "execution_count": 12,
   "id": "1e305df5-8dd1-4f64-948d-4b231aeaa1b4",
   "metadata": {},
   "outputs": [
    {
     "name": "stdout",
     "output_type": "stream",
     "text": [
      "Deposited $500\n",
      "Withdrew $1500\n",
      "Current balance: $0\n"
     ]
    }
   ],
   "source": [
    "# Usage\n",
    "acc = BankAccount('Shamiul', 1000)\n",
    "acc.deposit(500)\n",
    "acc.withdraw(1500)\n",
    "print(f\"Current balance: ${acc.get_balance()}\")"
   ]
  },
  {
   "cell_type": "code",
   "execution_count": null,
   "id": "f2bad775-331b-4ead-a080-d2fef29bced9",
   "metadata": {},
   "outputs": [],
   "source": []
  }
 ],
 "metadata": {
  "kernelspec": {
   "display_name": "Python 3 (ipykernel)",
   "language": "python",
   "name": "python3"
  },
  "language_info": {
   "codemirror_mode": {
    "name": "ipython",
    "version": 3
   },
   "file_extension": ".py",
   "mimetype": "text/x-python",
   "name": "python",
   "nbconvert_exporter": "python",
   "pygments_lexer": "ipython3",
   "version": "3.13.5"
  }
 },
 "nbformat": 4,
 "nbformat_minor": 5
}
