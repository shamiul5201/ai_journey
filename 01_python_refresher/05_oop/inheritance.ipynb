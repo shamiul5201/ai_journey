{
 "cells": [
  {
   "cell_type": "markdown",
   "id": "02cb7494-2107-4923-85fd-02c31eaffe37",
   "metadata": {},
   "source": [
    "# Inheritance"
   ]
  },
  {
   "cell_type": "code",
   "execution_count": 5,
   "id": "67a9702b-5f4d-4a2c-a15a-c15cf286fb69",
   "metadata": {},
   "outputs": [],
   "source": [
    "class Person:\n",
    "    def __init__(self, name):\n",
    "        self.name = name\n",
    "\n",
    "    def speak(self):\n",
    "        print(f\"{self.name} says hello!\")\n",
    "\n",
    "# Students inheritance from person\n",
    "class Student(Person):\n",
    "    def __init__(self, name, school):\n",
    "        # Call parent constructor\n",
    "        super().__init__(name)\n",
    "        self.school = school\n",
    "\n",
    "    def study(self):\n",
    "        print(f\"{self.name} is studying in {self.school}\")\n",
    "\n",
    "# Create a student object\n",
    "s1 = Student('Shamiul', 'AI academy')\n"
   ]
  },
  {
   "cell_type": "code",
   "execution_count": 6,
   "id": "7f38cced-ded4-45cf-8aea-fddf0b9a3147",
   "metadata": {},
   "outputs": [
    {
     "name": "stdout",
     "output_type": "stream",
     "text": [
      "Shamiul says hello!\n",
      "Shamiul is studying in AI academy\n"
     ]
    }
   ],
   "source": [
    "s1.speak()\n",
    "s1.study()"
   ]
  },
  {
   "cell_type": "code",
   "execution_count": null,
   "id": "9437e041-01f9-4547-9bcd-fc1c328f6b99",
   "metadata": {},
   "outputs": [],
   "source": []
  }
 ],
 "metadata": {
  "kernelspec": {
   "display_name": "Python 3 (ipykernel)",
   "language": "python",
   "name": "python3"
  },
  "language_info": {
   "codemirror_mode": {
    "name": "ipython",
    "version": 3
   },
   "file_extension": ".py",
   "mimetype": "text/x-python",
   "name": "python",
   "nbconvert_exporter": "python",
   "pygments_lexer": "ipython3",
   "version": "3.13.5"
  }
 },
 "nbformat": 4,
 "nbformat_minor": 5
}
