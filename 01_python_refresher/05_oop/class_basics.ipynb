{
 "cells": [
  {
   "cell_type": "markdown",
   "id": "54a551eb-d67f-4ca4-a8d6-dd426be34d97",
   "metadata": {},
   "source": [
    "# Classes and Objects"
   ]
  },
  {
   "cell_type": "code",
   "execution_count": 2,
   "id": "0b745717-e5e0-40cd-a5e9-c39315018f6a",
   "metadata": {},
   "outputs": [],
   "source": [
    "# Define a class\n",
    "class Person:\n",
    "    # Class attribute shared by all\n",
    "    species = \"Human\"\n",
    "\n",
    "    def greet(self):\n",
    "        print('Hello, I am a person')\n",
    "\n",
    "\n",
    "# Create object\n",
    "p1 = Person()\n",
    "p2 = Person()"
   ]
  },
  {
   "cell_type": "code",
   "execution_count": 3,
   "id": "74920a7c-ee7e-45b0-a0da-1249d43158cb",
   "metadata": {},
   "outputs": [
    {
     "name": "stdout",
     "output_type": "stream",
     "text": [
      "Human\n"
     ]
    }
   ],
   "source": [
    "print(p1.species)"
   ]
  },
  {
   "cell_type": "code",
   "execution_count": 4,
   "id": "db91a292-8961-4a98-a015-f0822239033b",
   "metadata": {},
   "outputs": [
    {
     "name": "stdout",
     "output_type": "stream",
     "text": [
      "Hello, I am a person\n"
     ]
    }
   ],
   "source": [
    "p1.greet()"
   ]
  },
  {
   "cell_type": "code",
   "execution_count": 5,
   "id": "d05a2e97-377d-4e4a-aa1e-0ba86293f182",
   "metadata": {},
   "outputs": [
    {
     "name": "stdout",
     "output_type": "stream",
     "text": [
      "True\n"
     ]
    }
   ],
   "source": [
    "# Each object is independent\n",
    "print(isinstance(p1, Person))"
   ]
  },
  {
   "cell_type": "code",
   "execution_count": null,
   "id": "ef310d51-141e-4c05-9bb9-28f2706793c5",
   "metadata": {},
   "outputs": [],
   "source": []
  }
 ],
 "metadata": {
  "kernelspec": {
   "display_name": "Python 3 (ipykernel)",
   "language": "python",
   "name": "python3"
  },
  "language_info": {
   "codemirror_mode": {
    "name": "ipython",
    "version": 3
   },
   "file_extension": ".py",
   "mimetype": "text/x-python",
   "name": "python",
   "nbconvert_exporter": "python",
   "pygments_lexer": "ipython3",
   "version": "3.13.5"
  }
 },
 "nbformat": 4,
 "nbformat_minor": 5
}
