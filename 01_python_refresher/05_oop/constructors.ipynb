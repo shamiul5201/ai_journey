{
 "cells": [
  {
   "cell_type": "markdown",
   "id": "bfab5180-c7fb-48e8-9127-6f755adba0a6",
   "metadata": {},
   "source": [
    "# Constructor and Attributes"
   ]
  },
  {
   "cell_type": "code",
   "execution_count": 2,
   "id": "f14559bc-5d4c-4544-82cf-b0edf948342f",
   "metadata": {},
   "outputs": [],
   "source": [
    "class Person:\n",
    "    # Constructor: automatically runs when creating an object\n",
    "    def __init__(self, name, age):\n",
    "        self.name = name\n",
    "        self.age = age\n",
    "\n",
    "    def introduce(self):\n",
    "        print(f\"Hi, I'm {self.name}, and I'm {self.age} years old\")\n",
    "\n",
    "# Create object\n",
    "person1 = Person('Shamiul', 28)\n",
    "person2 = Person('alex', 30)"
   ]
  },
  {
   "cell_type": "code",
   "execution_count": 4,
   "id": "327709d4-fd9c-45ab-83c8-27cdaeda2f25",
   "metadata": {},
   "outputs": [
    {
     "name": "stdout",
     "output_type": "stream",
     "text": [
      "Hi, I'm Shamiul, and I'm 28 years old\n",
      "Hi, I'm alex, and I'm 30 years old\n"
     ]
    }
   ],
   "source": [
    "# Call methods\n",
    "person1.introduce()\n",
    "person2.introduce()"
   ]
  },
  {
   "cell_type": "code",
   "execution_count": 5,
   "id": "8b5b551b-3709-4438-bbf0-329d7dc87169",
   "metadata": {},
   "outputs": [
    {
     "name": "stdout",
     "output_type": "stream",
     "text": [
      "Shamiul\n",
      "30\n"
     ]
    }
   ],
   "source": [
    "# Access objects\n",
    "print(person1.name)\n",
    "print(person2.age)"
   ]
  },
  {
   "cell_type": "code",
   "execution_count": null,
   "id": "8f90e105-d44f-4ec1-8e85-98303ecd547a",
   "metadata": {},
   "outputs": [],
   "source": []
  }
 ],
 "metadata": {
  "kernelspec": {
   "display_name": "Python 3 (ipykernel)",
   "language": "python",
   "name": "python3"
  },
  "language_info": {
   "codemirror_mode": {
    "name": "ipython",
    "version": 3
   },
   "file_extension": ".py",
   "mimetype": "text/x-python",
   "name": "python",
   "nbconvert_exporter": "python",
   "pygments_lexer": "ipython3",
   "version": "3.13.5"
  }
 },
 "nbformat": 4,
 "nbformat_minor": 5
}
