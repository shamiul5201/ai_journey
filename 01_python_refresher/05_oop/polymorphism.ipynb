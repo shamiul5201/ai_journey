{
 "cells": [
  {
   "cell_type": "code",
   "execution_count": 1,
   "id": "fe4cf646-ebd1-4dbe-a6c4-2c5320332328",
   "metadata": {},
   "outputs": [
    {
     "ename": "SyntaxError",
     "evalue": "closing parenthesis ']' does not match opening parenthesis '(' (915067254.py, line 14)",
     "output_type": "error",
     "traceback": [
      "\u001b[0;36m  Cell \u001b[0;32mIn[1], line 14\u001b[0;36m\u001b[0m\n\u001b[0;31m    animals = [Bird(), Dog(), Cat(]\u001b[0m\n\u001b[0m                                  ^\u001b[0m\n\u001b[0;31mSyntaxError\u001b[0m\u001b[0;31m:\u001b[0m closing parenthesis ']' does not match opening parenthesis '('\n"
     ]
    }
   ],
   "source": [
    "class Bird:\n",
    "    def speak(self):\n",
    "        print(\"Chirp chirp\")\n",
    "\n",
    "class Dog:\n",
    "    def speak(self):\n",
    "        print(\"Woof woof\")\n",
    "\n",
    "class Cat:\n",
    "    def speak(self):\n",
    "        print(\"Meow\")\n",
    "\n",
    "## same method name, different behaviour\n",
    "animals = [Bird(), Dog(), Cat(]\n",
    "\n",
    "for animal in animals:\n",
    "    animal.speak()"
   ]
  },
  {
   "cell_type": "code",
   "execution_count": null,
   "id": "e1a52a32-569e-49c1-ae4c-4ecddc8a95de",
   "metadata": {},
   "outputs": [],
   "source": []
  }
 ],
 "metadata": {
  "kernelspec": {
   "display_name": "Python 3 (ipykernel)",
   "language": "python",
   "name": "python3"
  },
  "language_info": {
   "codemirror_mode": {
    "name": "ipython",
    "version": 3
   },
   "file_extension": ".py",
   "mimetype": "text/x-python",
   "name": "python",
   "nbconvert_exporter": "python",
   "pygments_lexer": "ipython3",
   "version": "3.13.5"
  }
 },
 "nbformat": 4,
 "nbformat_minor": 5
}
