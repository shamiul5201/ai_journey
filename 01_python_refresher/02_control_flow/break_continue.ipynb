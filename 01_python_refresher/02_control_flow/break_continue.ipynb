{
 "cells": [
  {
   "cell_type": "markdown",
   "id": "c812c7fd-c85d-4566-a333-72b02dc50d7f",
   "metadata": {},
   "source": [
    "### break example"
   ]
  },
  {
   "cell_type": "code",
   "execution_count": 1,
   "id": "d2c0817f-0fe4-4488-ba5d-5d002ebe75c0",
   "metadata": {},
   "outputs": [
    {
     "name": "stdout",
     "output_type": "stream",
     "text": [
      "0\n",
      "1\n",
      "2\n",
      "3\n",
      "4\n",
      "Breaking loop at 5\n"
     ]
    }
   ],
   "source": [
    "for i in range(10):\n",
    "    if i == 5:\n",
    "        print(\"Breaking loop at 5\")\n",
    "        break\n",
    "    print(i)\n",
    "    "
   ]
  },
  {
   "cell_type": "markdown",
   "id": "ff80270e-c717-441b-8884-99664622087d",
   "metadata": {},
   "source": [
    "### Continue example"
   ]
  },
  {
   "cell_type": "code",
   "execution_count": 2,
   "id": "7a7b946a-7d33-4b27-b827-74544c2c4d77",
   "metadata": {},
   "outputs": [
    {
     "name": "stdout",
     "output_type": "stream",
     "text": [
      "odd numbers: 1\n",
      "odd numbers: 3\n",
      "odd numbers: 5\n",
      "odd numbers: 7\n",
      "odd numbers: 9\n"
     ]
    }
   ],
   "source": [
    "for i in range(10):\n",
    "    if i % 2 == 0:\n",
    "        continue\n",
    "    print(f\"odd numbers: {i}\")"
   ]
  },
  {
   "cell_type": "markdown",
   "id": "a897c7ba-49b6-455a-843c-168b4d98576e",
   "metadata": {},
   "source": [
    "### loop else: runs if loop completes normally"
   ]
  },
  {
   "cell_type": "code",
   "execution_count": 3,
   "id": "54b43c10-559c-4b84-9457-9dfc4cd4182a",
   "metadata": {},
   "outputs": [
    {
     "name": "stdout",
     "output_type": "stream",
     "text": [
      "Trying attempt 1\n",
      "Trying attempt 2\n",
      "Trying attempt 3\n",
      "All attempts done successfully\n"
     ]
    }
   ],
   "source": [
    "for i in range(3):\n",
    "    print(f\"Trying attempt {i + 1}\")\n",
    "else:\n",
    "    print(\"All attempts done successfully\")"
   ]
  },
  {
   "cell_type": "markdown",
   "id": "442ccf2d-1fee-4135-a5dc-1a033843aaf3",
   "metadata": {},
   "source": [
    "### while loop with break"
   ]
  },
  {
   "cell_type": "code",
   "execution_count": 4,
   "id": "45155335-d23a-4f0d-b2c2-58c20a7e8223",
   "metadata": {},
   "outputs": [
    {
     "name": "stdout",
     "output_type": "stream",
     "text": [
      "Attempt 1\n",
      "Attempt 2\n",
      "Attempt 3\n",
      "Stopping loop...\n"
     ]
    }
   ],
   "source": [
    "attempts = 0\n",
    "while True:\n",
    "    attempts += 1\n",
    "    print(f\"Attempt {attempts}\")\n",
    "    if attempts == 3:\n",
    "        print(\"Stopping loop...\")\n",
    "        break"
   ]
  },
  {
   "cell_type": "code",
   "execution_count": null,
   "id": "2066ff0a-ea52-4e7c-aa98-24cd73e09a28",
   "metadata": {},
   "outputs": [],
   "source": []
  }
 ],
 "metadata": {
  "kernelspec": {
   "display_name": "Python 3 (ipykernel)",
   "language": "python",
   "name": "python3"
  },
  "language_info": {
   "codemirror_mode": {
    "name": "ipython",
    "version": 3
   },
   "file_extension": ".py",
   "mimetype": "text/x-python",
   "name": "python",
   "nbconvert_exporter": "python",
   "pygments_lexer": "ipython3",
   "version": "3.13.5"
  }
 },
 "nbformat": 4,
 "nbformat_minor": 5
}
