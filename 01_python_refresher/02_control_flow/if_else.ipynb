{
 "cells": [
  {
   "cell_type": "markdown",
   "id": "3250af72-ad24-4665-9148-f7b6615acfd7",
   "metadata": {},
   "source": [
    "# Conditional statements"
   ]
  },
  {
   "cell_type": "code",
   "execution_count": 3,
   "id": "c8ebfdcb-8779-48c5-98d2-2a5eb896ed55",
   "metadata": {},
   "outputs": [
    {
     "name": "stdin",
     "output_type": "stream",
     "text": [
      "Enter your age:  1\n"
     ]
    },
    {
     "name": "stdout",
     "output_type": "stream",
     "text": [
      "you are a child\n"
     ]
    }
   ],
   "source": [
    "age = int(input(\"Enter your age: \"))\n",
    "\n",
    "if age < 13:\n",
    "    print(\"you are a child\")\n",
    "elif age < 20:\n",
    "    print(\"you are a teenager\")\n",
    "elif age < 60:\n",
    "    print(\"you are an adult\")\n",
    "else:\n",
    "    print(\"you are a senior citizen\")\n",
    "          "
   ]
  },
  {
   "cell_type": "markdown",
   "id": "ee18a1d2-c6ac-410d-b15e-d2b198ec2ad6",
   "metadata": {},
   "source": [
    "### Boolean expression"
   ]
  },
  {
   "cell_type": "code",
   "execution_count": 7,
   "id": "5ecfff97-6f6a-476b-ad88-c77f24d4b9ec",
   "metadata": {},
   "outputs": [
    {
     "name": "stdout",
     "output_type": "stream",
     "text": [
      "stay indoor or you will get wet\n"
     ]
    }
   ],
   "source": [
    "is_raining = True\n",
    "has_umbrella = False\n",
    "\n",
    "if is_raining and not has_umbrella:\n",
    "    print(\"stay indoor or you will get wet\")\n",
    "elif is_raining and has_umbrella:\n",
    "    print(\"you are good to go out\")\n",
    "else:\n",
    "    print(\"Enjoy the sunshine\")\n"
   ]
  },
  {
   "cell_type": "code",
   "execution_count": 8,
   "id": "9a16364e-5fce-4233-9d92-9244f7f63e48",
   "metadata": {},
   "outputs": [
    {
     "name": "stdout",
     "output_type": "stream",
     "text": [
      "Nice weather\n"
     ]
    }
   ],
   "source": [
    "temperature = 25\n",
    "print(\"Hot day\") if temperature > 30 else print(\"Nice weather\")"
   ]
  },
  {
   "cell_type": "code",
   "execution_count": null,
   "id": "fdf30ce0-f24a-4fb3-bf1d-1ef073a1f7dc",
   "metadata": {},
   "outputs": [],
   "source": []
  }
 ],
 "metadata": {
  "kernelspec": {
   "display_name": "Python 3 (ipykernel)",
   "language": "python",
   "name": "python3"
  },
  "language_info": {
   "codemirror_mode": {
    "name": "ipython",
    "version": 3
   },
   "file_extension": ".py",
   "mimetype": "text/x-python",
   "name": "python",
   "nbconvert_exporter": "python",
   "pygments_lexer": "ipython3",
   "version": "3.13.5"
  }
 },
 "nbformat": 4,
 "nbformat_minor": 5
}
