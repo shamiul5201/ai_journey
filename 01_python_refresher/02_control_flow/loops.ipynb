{
 "cells": [
  {
   "cell_type": "markdown",
   "id": "bcdc79ff-81e8-43c4-8ec2-7fc4b84aa77e",
   "metadata": {},
   "source": [
    "### For loop with range"
   ]
  },
  {
   "cell_type": "code",
   "execution_count": 1,
   "id": "a56b212a-8b22-4e85-84a2-cc76efdaf2a5",
   "metadata": {},
   "outputs": [
    {
     "name": "stdout",
     "output_type": "stream",
     "text": [
      "Iteration 0\n",
      "Iteration 1\n",
      "Iteration 2\n",
      "Iteration 3\n",
      "Iteration 4\n"
     ]
    }
   ],
   "source": [
    "for i in range(5):\n",
    "    print(f\"Iteration {i}\")"
   ]
  },
  {
   "cell_type": "markdown",
   "id": "6649c190-1cf8-4b7d-bee5-6770b682f501",
   "metadata": {},
   "source": [
    "### Range with start, stop, step"
   ]
  },
  {
   "cell_type": "code",
   "execution_count": 2,
   "id": "6e7d77d2-4c52-4d23-b31b-63ebf9a27383",
   "metadata": {},
   "outputs": [
    {
     "name": "stdout",
     "output_type": "stream",
     "text": [
      "Even number 2\n",
      "Even number 4\n",
      "Even number 6\n",
      "Even number 8\n",
      "Even number 10\n"
     ]
    }
   ],
   "source": [
    "for num in range(2, 11, 2):\n",
    "    print(f\"Even number {num}\")"
   ]
  },
  {
   "cell_type": "code",
   "execution_count": 6,
   "id": "b116cf51-fd99-452c-9aa7-3f5fe01b1bb4",
   "metadata": {},
   "outputs": [
    {
     "name": "stdout",
     "output_type": "stream",
     "text": [
      "odd number 3\n",
      "odd number 5\n",
      "odd number 7\n",
      "odd number 9\n",
      "odd number 11\n"
     ]
    }
   ],
   "source": [
    "for num in range(3, 12, 2):\n",
    "    print(f\"odd number {num}\")"
   ]
  },
  {
   "cell_type": "markdown",
   "id": "e4735e81-eda8-4b9e-9860-05eba3b14f71",
   "metadata": {},
   "source": [
    "### Loop through a list"
   ]
  },
  {
   "cell_type": "code",
   "execution_count": 7,
   "id": "898feecc-96a8-4407-afdf-41d0132b080a",
   "metadata": {},
   "outputs": [
    {
     "name": "stdout",
     "output_type": "stream",
     "text": [
      "I like apple\n",
      "I like banana\n",
      "I like mango\n"
     ]
    }
   ],
   "source": [
    "fruits = [\"apple\", \"banana\", \"mango\"]\n",
    "for fruit in fruits:\n",
    "    print(f\"I like {fruit}\")"
   ]
  },
  {
   "cell_type": "markdown",
   "id": "e133d3a8-0e42-425c-99a0-f2092ff3dc36",
   "metadata": {},
   "source": [
    "### Loop through a dictionary"
   ]
  },
  {
   "cell_type": "code",
   "execution_count": 8,
   "id": "919dc175-50e4-4026-97ef-0e934c1d8fc9",
   "metadata": {},
   "outputs": [
    {
     "name": "stdout",
     "output_type": "stream",
     "text": [
      "name:shamiul\n",
      "age:28\n",
      "city:Dhaka\n"
     ]
    }
   ],
   "source": [
    "person = {\"name\":\"shamiul\", \"age\":28, \"city\":\"Dhaka\"}\n",
    "for key, value in person.items():\n",
    "    print(f\"{key}:{value}\")"
   ]
  },
  {
   "cell_type": "markdown",
   "id": "38ebf0eb-c201-41ee-8742-8464a31409b4",
   "metadata": {},
   "source": [
    "### while loop"
   ]
  },
  {
   "cell_type": "code",
   "execution_count": 16,
   "id": "deec51a9-0319-47b0-872a-22a9b53c9f20",
   "metadata": {},
   "outputs": [
    {
     "name": "stdout",
     "output_type": "stream",
     "text": [
      "Count is 2\n",
      "Count is 3\n",
      "Count is 4\n",
      "Count is 5\n",
      "Count is 6\n",
      "Count is 7\n",
      "Count is 8\n",
      "Count is 9\n",
      "Loop finished\n"
     ]
    }
   ],
   "source": [
    "count = 2\n",
    "while count < 10:\n",
    "    print(f\"Count is {count}\")\n",
    "    count += 1\n",
    "\n",
    "print(\"Loop finished\")"
   ]
  },
  {
   "cell_type": "code",
   "execution_count": null,
   "id": "8e17aec0-05c9-478f-abda-6e2ca177112b",
   "metadata": {},
   "outputs": [],
   "source": []
  }
 ],
 "metadata": {
  "kernelspec": {
   "display_name": "Python 3 (ipykernel)",
   "language": "python",
   "name": "python3"
  },
  "language_info": {
   "codemirror_mode": {
    "name": "ipython",
    "version": 3
   },
   "file_extension": ".py",
   "mimetype": "text/x-python",
   "name": "python",
   "nbconvert_exporter": "python",
   "pygments_lexer": "ipython3",
   "version": "3.13.5"
  }
 },
 "nbformat": 4,
 "nbformat_minor": 5
}
