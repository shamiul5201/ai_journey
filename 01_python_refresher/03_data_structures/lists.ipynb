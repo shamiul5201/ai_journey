{
 "cells": [
  {
   "cell_type": "markdown",
   "id": "0624b7e2-93d3-45ba-8460-810ad7cfe932",
   "metadata": {},
   "source": [
    "### Creating lists"
   ]
  },
  {
   "cell_type": "code",
   "execution_count": 1,
   "id": "5db73743-4bef-4321-ae34-0beac27de7ae",
   "metadata": {},
   "outputs": [
    {
     "name": "stdout",
     "output_type": "stream",
     "text": [
      "['apple', 'banana', 'cherry']\n"
     ]
    }
   ],
   "source": [
    "fruits = ['apple', 'banana', 'cherry']\n",
    "print(fruits)"
   ]
  },
  {
   "cell_type": "markdown",
   "id": "1186bf9b-ec42-4fa8-8951-b36e9253a727",
   "metadata": {},
   "source": [
    "### Accessing elements"
   ]
  },
  {
   "cell_type": "code",
   "execution_count": 2,
   "id": "16efea62-dc4e-40d3-ae40-5e63f5850f61",
   "metadata": {},
   "outputs": [
    {
     "name": "stdout",
     "output_type": "stream",
     "text": [
      "First fruit: apple\n"
     ]
    }
   ],
   "source": [
    "print(f\"First fruit: {fruits[0]}\")"
   ]
  },
  {
   "cell_type": "code",
   "execution_count": 3,
   "id": "ca012c99-b309-4f00-95a6-c554b437afe2",
   "metadata": {},
   "outputs": [
    {
     "name": "stdout",
     "output_type": "stream",
     "text": [
      "Second fruit: banana\n"
     ]
    }
   ],
   "source": [
    "print(f\"Second fruit: {fruits[1]}\")"
   ]
  },
  {
   "cell_type": "code",
   "execution_count": 4,
   "id": "e2e3ce93-c049-47c3-bc47-bb28b7ecd98e",
   "metadata": {},
   "outputs": [
    {
     "name": "stdout",
     "output_type": "stream",
     "text": [
      "Last fruit: cherry\n"
     ]
    }
   ],
   "source": [
    "print(f\"Last fruit: {fruits[-1]}\")"
   ]
  },
  {
   "cell_type": "markdown",
   "id": "b7e26626-cd2d-4c9f-8bbf-09e8e748eac3",
   "metadata": {},
   "source": [
    "### Modifying lists"
   ]
  },
  {
   "cell_type": "code",
   "execution_count": 5,
   "id": "62ac50d2-112b-4793-9de3-5d2e16c98965",
   "metadata": {},
   "outputs": [
    {
     "name": "stdout",
     "output_type": "stream",
     "text": [
      "Updated fruits: ['apple', 'mango', 'cherry']\n"
     ]
    }
   ],
   "source": [
    "fruits[1] = 'mango'\n",
    "print(f\"Updated fruits: {fruits}\")"
   ]
  },
  {
   "cell_type": "markdown",
   "id": "647d30a4-bfdb-4a0c-b79b-f64454c16d64",
   "metadata": {},
   "source": [
    "### Adding items"
   ]
  },
  {
   "cell_type": "code",
   "execution_count": 6,
   "id": "996d04e2-3fb4-4abd-be7c-5aa0cd1fb271",
   "metadata": {},
   "outputs": [
    {
     "name": "stdout",
     "output_type": "stream",
     "text": [
      "After adding: ['apple', 'grape', 'mango', 'cherry', 'orange']\n"
     ]
    }
   ],
   "source": [
    "fruits.append('orange') # add at end\n",
    "fruits.insert(1, 'grape') # insert at index\n",
    "print(f\"After adding: {fruits}\")"
   ]
  },
  {
   "cell_type": "markdown",
   "id": "76da9456-fd05-46bf-8c30-bddddfe26599",
   "metadata": {},
   "source": [
    "### Removing items"
   ]
  },
  {
   "cell_type": "code",
   "execution_count": 7,
   "id": "acff7b50-8e14-4983-84dc-26288de87aef",
   "metadata": {},
   "outputs": [
    {
     "name": "stdout",
     "output_type": "stream",
     "text": [
      "Removed: orange\n",
      "After removal: ['apple', 'grape', 'mango']\n"
     ]
    }
   ],
   "source": [
    "fruits.remove('cherry')\n",
    "removed_item = fruits.pop() # remove last item\n",
    "print(f\"Removed: {removed_item}\")\n",
    "print(f\"After removal: {fruits}\")"
   ]
  },
  {
   "cell_type": "markdown",
   "id": "704d50d1-a900-4307-bb2e-4f763edd8b51",
   "metadata": {},
   "source": [
    "### Iterating through a list"
   ]
  },
  {
   "cell_type": "code",
   "execution_count": 8,
   "id": "f6fc0bb0-eb49-4fc2-a5fc-9d4e98498c21",
   "metadata": {},
   "outputs": [
    {
     "name": "stdout",
     "output_type": "stream",
     "text": [
      "I like apple\n",
      "I like grape\n",
      "I like mango\n"
     ]
    }
   ],
   "source": [
    "for fruit in fruits:\n",
    "    print(f\"I like {fruit}\")"
   ]
  },
  {
   "cell_type": "markdown",
   "id": "0bce6e5a-904a-463c-ba12-d5de3b769a21",
   "metadata": {},
   "source": [
    "### List slicing"
   ]
  },
  {
   "cell_type": "code",
   "execution_count": 9,
   "id": "57e5bd59-0b2b-47b1-844f-23757366e09a",
   "metadata": {},
   "outputs": [
    {
     "name": "stdout",
     "output_type": "stream",
     "text": [
      "First two fruits ['apple', 'grape']\n"
     ]
    }
   ],
   "source": [
    "print(f\"First two fruits {fruits[:2]}\")"
   ]
  },
  {
   "cell_type": "markdown",
   "id": "531b8b76-dcc0-4df9-b5d7-2dd18264984d",
   "metadata": {},
   "source": [
    "### List comprehension"
   ]
  },
  {
   "cell_type": "code",
   "execution_count": 10,
   "id": "431b4da6-c346-4478-a878-9ffb026f59f0",
   "metadata": {},
   "outputs": [
    {
     "name": "stdout",
     "output_type": "stream",
     "text": [
      "Squares: [1, 4, 9, 16, 25]\n"
     ]
    }
   ],
   "source": [
    "squares = [x**2 for x in range(1, 6)]\n",
    "print(f\"Squares: {squares}\")"
   ]
  },
  {
   "cell_type": "code",
   "execution_count": null,
   "id": "3d81b3e1-bcd0-4e3e-96f2-0010ccb6daca",
   "metadata": {},
   "outputs": [],
   "source": []
  }
 ],
 "metadata": {
  "kernelspec": {
   "display_name": "Python 3 (ipykernel)",
   "language": "python",
   "name": "python3"
  },
  "language_info": {
   "codemirror_mode": {
    "name": "ipython",
    "version": 3
   },
   "file_extension": ".py",
   "mimetype": "text/x-python",
   "name": "python",
   "nbconvert_exporter": "python",
   "pygments_lexer": "ipython3",
   "version": "3.13.5"
  }
 },
 "nbformat": 4,
 "nbformat_minor": 5
}
