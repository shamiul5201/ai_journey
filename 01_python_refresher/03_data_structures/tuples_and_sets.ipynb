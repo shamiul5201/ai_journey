{
 "cells": [
  {
   "cell_type": "markdown",
   "id": "58090f3a-9ba2-4588-8b54-9696b7b6fc2d",
   "metadata": {},
   "source": [
    "### Immutable (cannot be changed)"
   ]
  },
  {
   "cell_type": "code",
   "execution_count": 1,
   "id": "69665206-4dba-4404-abaf-ead654fa1a73",
   "metadata": {},
   "outputs": [
    {
     "name": "stdout",
     "output_type": "stream",
     "text": [
      "X: 10, Y:20\n"
     ]
    }
   ],
   "source": [
    "coordinates = (10,20)\n",
    "print(f\"X: {coordinates[0]}, Y:{coordinates[1]}\")"
   ]
  },
  {
   "cell_type": "markdown",
   "id": "f753799c-445f-4f4a-a570-0d621a13f289",
   "metadata": {},
   "source": [
    "### Unpacking tuples"
   ]
  },
  {
   "cell_type": "code",
   "execution_count": 2,
   "id": "a83cbebd-246c-47d2-b931-d81803fffb41",
   "metadata": {},
   "outputs": [
    {
     "name": "stdout",
     "output_type": "stream",
     "text": [
      "Unpacked: x = 10, y = 20\n"
     ]
    }
   ],
   "source": [
    "x, y = coordinates\n",
    "print(f\"Unpacked: x = {x}, y = {y}\")"
   ]
  },
  {
   "cell_type": "markdown",
   "id": "2e1cc1bb-e5a2-47ca-b1d5-9c0d3083bfe7",
   "metadata": {},
   "source": [
    "##### tuple with one element must have a cooma"
   ]
  },
  {
   "cell_type": "code",
   "execution_count": 3,
   "id": "9b57dea2-4bbf-402e-90f8-081edb0adc3f",
   "metadata": {},
   "outputs": [
    {
     "name": "stdout",
     "output_type": "stream",
     "text": [
      "<class 'tuple'>\n"
     ]
    }
   ],
   "source": [
    "single_tuple = (5,)\n",
    "print(type(single_tuple))"
   ]
  },
  {
   "cell_type": "code",
   "execution_count": 4,
   "id": "8997ee43-6c83-473e-8054-86fb9404dd12",
   "metadata": {},
   "outputs": [
    {
     "name": "stdout",
     "output_type": "stream",
     "text": [
      "<class 'int'>\n"
     ]
    }
   ],
   "source": [
    "single_tuple = (5)\n",
    "print(type(single_tuple))"
   ]
  },
  {
   "cell_type": "markdown",
   "id": "a88d1c7f-045e-4e83-a511-c08453dbf75b",
   "metadata": {},
   "source": [
    "### Sets"
   ]
  },
  {
   "cell_type": "markdown",
   "id": "13513a8d-4639-4bd6-b67f-9f1c0eb10ec9",
   "metadata": {},
   "source": [
    "#### Unordered, unique values"
   ]
  },
  {
   "cell_type": "code",
   "execution_count": 5,
   "id": "18ffcc90-50de-4bf7-9a5d-54dc6b3a6372",
   "metadata": {},
   "outputs": [
    {
     "name": "stdout",
     "output_type": "stream",
     "text": [
      "Unique colors: {'red', 'blue', 'green'}\n"
     ]
    }
   ],
   "source": [
    "colors = {'red', 'green', 'blue', 'green'}\n",
    "print(f\"Unique colors: {colors}\")"
   ]
  },
  {
   "cell_type": "markdown",
   "id": "4b83d26f-4c79-41f3-927c-a60501941fe2",
   "metadata": {},
   "source": [
    "#### add and remove elements"
   ]
  },
  {
   "cell_type": "code",
   "execution_count": 6,
   "id": "760e9283-3747-41d4-b65e-61a4f0264721",
   "metadata": {},
   "outputs": [
    {
     "name": "stdout",
     "output_type": "stream",
     "text": [
      "After changes: {'yellow', 'blue', 'green'}\n"
     ]
    }
   ],
   "source": [
    "colors.add('yellow')\n",
    "colors.remove('red')\n",
    "print(f\"After changes: {colors}\")"
   ]
  },
  {
   "cell_type": "markdown",
   "id": "d5767248-9c89-46e3-8b57-940cedd80474",
   "metadata": {},
   "source": [
    "#### set operations"
   ]
  },
  {
   "cell_type": "code",
   "execution_count": 7,
   "id": "5b217c10-fc8f-4b1d-b493-08233581980c",
   "metadata": {},
   "outputs": [
    {
     "name": "stdout",
     "output_type": "stream",
     "text": [
      "Union : {'blue', 'purple', 'red', 'green', 'orange', 'yellow'}\n",
      "Intersection : {'blue'}\n",
      "Difference: {'red', 'yellow'}\n"
     ]
    }
   ],
   "source": [
    "primary = {'red', 'blue', 'yellow'}\n",
    "secondary = {'green', 'orange', 'purple', 'blue'}\n",
    "\n",
    "print(f\"Union : {primary | secondary}\")\n",
    "print(f\"Intersection : {primary & secondary}\")\n",
    "print(f\"Difference: {primary - secondary}\")"
   ]
  },
  {
   "cell_type": "code",
   "execution_count": null,
   "id": "4678ef94-f535-4c50-ba8c-cb98070c07b1",
   "metadata": {},
   "outputs": [],
   "source": []
  }
 ],
 "metadata": {
  "kernelspec": {
   "display_name": "Python 3 (ipykernel)",
   "language": "python",
   "name": "python3"
  },
  "language_info": {
   "codemirror_mode": {
    "name": "ipython",
    "version": 3
   },
   "file_extension": ".py",
   "mimetype": "text/x-python",
   "name": "python",
   "nbconvert_exporter": "python",
   "pygments_lexer": "ipython3",
   "version": "3.13.5"
  }
 },
 "nbformat": 4,
 "nbformat_minor": 5
}
