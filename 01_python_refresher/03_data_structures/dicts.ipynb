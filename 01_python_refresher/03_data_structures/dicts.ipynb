{
 "cells": [
  {
   "cell_type": "markdown",
   "id": "2663735b-a0ae-47ff-9853-e2a0757cafbf",
   "metadata": {},
   "source": [
    "### Key-value pairs"
   ]
  },
  {
   "cell_type": "code",
   "execution_count": 3,
   "id": "07833c16-fb15-438d-976f-0709571cf5f5",
   "metadata": {},
   "outputs": [],
   "source": [
    "person = {\n",
    "    'name' : 'shamiul',\n",
    "    'age' : 28,\n",
    "    'profession' : 'Entreprenur'\n",
    "}"
   ]
  },
  {
   "cell_type": "code",
   "execution_count": 4,
   "id": "2cbfb389-1269-4403-8a24-c356dcb697b2",
   "metadata": {},
   "outputs": [
    {
     "name": "stdout",
     "output_type": "stream",
     "text": [
      "Name: shamiul\n"
     ]
    }
   ],
   "source": [
    "print(f\"Name: {person['name']}\")"
   ]
  },
  {
   "cell_type": "code",
   "execution_count": 7,
   "id": "b3ce7ed2-5e48-40f3-988a-17b3de01f67c",
   "metadata": {},
   "outputs": [
    {
     "name": "stdout",
     "output_type": "stream",
     "text": [
      "Age: 28\n"
     ]
    }
   ],
   "source": [
    "print(f\"Age: {person.get('age')}\")"
   ]
  },
  {
   "cell_type": "markdown",
   "id": "7ff2052e-08d3-41e4-8252-6e8205119c49",
   "metadata": {},
   "source": [
    "#### Adding and updating "
   ]
  },
  {
   "cell_type": "code",
   "execution_count": 8,
   "id": "e64e9898-298f-40ec-9715-91cafafe5d62",
   "metadata": {},
   "outputs": [
    {
     "name": "stdout",
     "output_type": "stream",
     "text": [
      "Update dict: {'name': 'shamiul', 'age': 29, 'profession': 'Entreprenur', 'city': 'Dhaka'}\n"
     ]
    }
   ],
   "source": [
    "person[\"city\"] = \"Dhaka\"\n",
    "person[\"age\"] = 29\n",
    "print(f\"Update dict: {person}\")"
   ]
  },
  {
   "cell_type": "markdown",
   "id": "06336d3f-2d77-4da6-9de5-107ce4ee0251",
   "metadata": {},
   "source": [
    "#### Removing items"
   ]
  },
  {
   "cell_type": "code",
   "execution_count": 9,
   "id": "da765614-bc46-4b48-832b-871569ff13c3",
   "metadata": {},
   "outputs": [
    {
     "name": "stdout",
     "output_type": "stream",
     "text": [
      "Removed Entreprenur, remaining {'name': 'shamiul', 'age': 29, 'city': 'Dhaka'}\n"
     ]
    }
   ],
   "source": [
    "removed_value = person.pop(\"profession\")\n",
    "print(f\"Removed {removed_value}, remaining {person}\")"
   ]
  },
  {
   "cell_type": "markdown",
   "id": "65172915-299d-4008-b9af-d6ee16230a00",
   "metadata": {},
   "source": [
    "#### Loop through key and values"
   ]
  },
  {
   "cell_type": "code",
   "execution_count": 10,
   "id": "2ffc1681-c327-4bee-b630-3bda61411344",
   "metadata": {},
   "outputs": [
    {
     "name": "stdout",
     "output_type": "stream",
     "text": [
      "name : shamiul\n",
      "age : 29\n",
      "city : Dhaka\n"
     ]
    }
   ],
   "source": [
    "for key, value in person.items():\n",
    "    print(f\"{key} : {value}\")"
   ]
  },
  {
   "cell_type": "markdown",
   "id": "671f3b56-562d-401b-8996-01ca579657af",
   "metadata": {},
   "source": [
    "### Dictionary comprehension"
   ]
  },
  {
   "cell_type": "code",
   "execution_count": 11,
   "id": "b20903b5-a27e-4279-9720-e87603c8ab16",
   "metadata": {},
   "outputs": [
    {
     "name": "stdout",
     "output_type": "stream",
     "text": [
      "Squares dict: {1: 1, 2: 4, 3: 9, 4: 16, 5: 25}\n"
     ]
    }
   ],
   "source": [
    "squares = {x: x**2 for x in range(1, 6)}\n",
    "print(f\"Squares dict: {squares}\")"
   ]
  },
  {
   "cell_type": "code",
   "execution_count": null,
   "id": "ac4462a4-32ea-4fab-af8e-bfadd78232e4",
   "metadata": {},
   "outputs": [],
   "source": []
  }
 ],
 "metadata": {
  "kernelspec": {
   "display_name": "Python 3 (ipykernel)",
   "language": "python",
   "name": "python3"
  },
  "language_info": {
   "codemirror_mode": {
    "name": "ipython",
    "version": 3
   },
   "file_extension": ".py",
   "mimetype": "text/x-python",
   "name": "python",
   "nbconvert_exporter": "python",
   "pygments_lexer": "ipython3",
   "version": "3.13.5"
  }
 },
 "nbformat": 4,
 "nbformat_minor": 5
}
