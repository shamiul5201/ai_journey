{
 "cells": [
  {
   "cell_type": "markdown",
   "id": "124862d7-b73a-4f3e-aa63-37df7501109b",
   "metadata": {},
   "source": [
    "## A lambda function is a small, anonymous function — meaning:\n",
    "\n",
    "### It has no name.\n",
    "\n",
    "### It’s meant for short, throwaway logic.\n",
    "\n",
    "### It’s defined in one line."
   ]
  },
  {
   "cell_type": "code",
   "execution_count": 1,
   "id": "b180f499-c1c7-48d9-a3ba-f63fadee02d3",
   "metadata": {},
   "outputs": [
    {
     "name": "stdout",
     "output_type": "stream",
     "text": [
      "16\n"
     ]
    }
   ],
   "source": [
    "def square(x):\n",
    "    return x**2\n",
    "\n",
    "print(square(4))"
   ]
  },
  {
   "cell_type": "code",
   "execution_count": 2,
   "id": "98ec4290-be51-42f3-a335-6bba648cae9b",
   "metadata": {},
   "outputs": [
    {
     "name": "stdout",
     "output_type": "stream",
     "text": [
      "16\n"
     ]
    }
   ],
   "source": [
    "# with lambdas\n",
    "square = lambda x: x**2\n",
    "print(square(4))"
   ]
  },
  {
   "cell_type": "code",
   "execution_count": 3,
   "id": "881d53f7-29b9-4c9f-b395-80e9d08c21ea",
   "metadata": {},
   "outputs": [
    {
     "data": {
      "text/plain": [
       "<function __main__.<lambda>(arguments)>"
      ]
     },
     "execution_count": 3,
     "metadata": {},
     "output_type": "execute_result"
    }
   ],
   "source": [
    "# arguments → input(s)\n",
    "# expression → what to return (must be a single line, not multiple statements)\n",
    "\n",
    "lambda arguments: expression\n"
   ]
  },
  {
   "cell_type": "markdown",
   "id": "1e9cf525-b59f-4c43-a10e-891b84b196bb",
   "metadata": {},
   "source": [
    "#### lambda with multiple arguments"
   ]
  },
  {
   "cell_type": "code",
   "execution_count": 5,
   "id": "12a2ebea-78b7-4490-a129-8f12f9d24729",
   "metadata": {},
   "outputs": [
    {
     "name": "stdout",
     "output_type": "stream",
     "text": [
      "10\n"
     ]
    }
   ],
   "source": [
    "add = lambda a, b: a+b\n",
    "print(add(3,7))"
   ]
  },
  {
   "cell_type": "markdown",
   "id": "5794c629-62ad-4e5f-8664-b5a311608fc1",
   "metadata": {},
   "source": [
    "### Using numbers with built in function\n",
    "\n",
    "#### with map()"
   ]
  },
  {
   "cell_type": "code",
   "execution_count": 6,
   "id": "33e8299c-c621-4a34-a2f7-d221dfd9c342",
   "metadata": {},
   "outputs": [
    {
     "name": "stdout",
     "output_type": "stream",
     "text": [
      "Squared: [1, 4, 9, 16, 25]\n"
     ]
    }
   ],
   "source": [
    "numbers = [1, 2, 3, 4, 5]\n",
    "\n",
    "# map() applies a function to all elements\n",
    "\n",
    "squared = list(map(lambda x: x ** 2, numbers))\n",
    "print(f\"Squared: {squared}\")"
   ]
  },
  {
   "cell_type": "markdown",
   "id": "c9e22fa1-a01f-4330-a201-bc8f5d799da8",
   "metadata": {},
   "source": [
    "### with filter()"
   ]
  },
  {
   "cell_type": "code",
   "execution_count": 3,
   "id": "4694d7a9-496e-4f8d-880c-d75b0a8f2c74",
   "metadata": {},
   "outputs": [
    {
     "name": "stdout",
     "output_type": "stream",
     "text": [
      "[10, 20, 30]\n"
     ]
    }
   ],
   "source": [
    "numbers = [10, 15, 20, 25, 30]\n",
    "even = list(filter(lambda x: x % 2 == 0, numbers))\n",
    "\n",
    "print(even)"
   ]
  },
  {
   "cell_type": "markdown",
   "id": "a603cae4-8d6b-4196-828f-90c973aac110",
   "metadata": {},
   "source": [
    "#### With sorted()"
   ]
  },
  {
   "cell_type": "code",
   "execution_count": 6,
   "id": "cca0d662-b667-471e-a128-578688dbc1f2",
   "metadata": {},
   "outputs": [
    {
     "name": "stdout",
     "output_type": "stream",
     "text": [
      "[{'name': 'maya', 'age': 25}, {'name': 'shamiul', 'age': 28}, {'name': 'alex', 'age': 32}]\n"
     ]
    }
   ],
   "source": [
    "people = [\n",
    "    {'name': 'shamiul', 'age': 28},\n",
    "    {'name': 'alex', 'age': 32},\n",
    "    {'name': 'maya', 'age': 25}\n",
    "]\n",
    "\n",
    "sorted_people = sorted(people, key = lambda person: person[\"age\"])\n",
    "\n",
    "print(sorted_people)"
   ]
  },
  {
   "cell_type": "code",
   "execution_count": null,
   "id": "b2f46c3a-c8d7-4811-b879-aad242ae0bd4",
   "metadata": {},
   "outputs": [],
   "source": []
  }
 ],
 "metadata": {
  "kernelspec": {
   "display_name": "Python 3 (ipykernel)",
   "language": "python",
   "name": "python3"
  },
  "language_info": {
   "codemirror_mode": {
    "name": "ipython",
    "version": 3
   },
   "file_extension": ".py",
   "mimetype": "text/x-python",
   "name": "python",
   "nbconvert_exporter": "python",
   "pygments_lexer": "ipython3",
   "version": "3.13.5"
  }
 },
 "nbformat": 4,
 "nbformat_minor": 5
}
