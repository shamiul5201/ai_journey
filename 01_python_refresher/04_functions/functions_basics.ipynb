{
 "cells": [
  {
   "cell_type": "code",
   "execution_count": 1,
   "id": "68c65845-325f-466e-ab14-ed0daad9c9c9",
   "metadata": {},
   "outputs": [
    {
     "name": "stdout",
     "output_type": "stream",
     "text": [
      "Hello there\n",
      "Welcome back to python refresher\n"
     ]
    }
   ],
   "source": [
    "def greet():\n",
    "    print(\"Hello there\")\n",
    "    print(\"Welcome back to python refresher\")\n",
    "\n",
    "greet()"
   ]
  },
  {
   "cell_type": "code",
   "execution_count": 2,
   "id": "eaa442ab-1ad6-4f9a-9f5e-5d63e51462f9",
   "metadata": {},
   "outputs": [
    {
     "name": "stdout",
     "output_type": "stream",
     "text": [
      "Hi, Shamiul!  Great to see you learning python\n"
     ]
    }
   ],
   "source": [
    "# fucntion with parameters\n",
    "def greet_user(name):\n",
    "    print(f\"Hi, {name}!  Great to see you learning python\")\n",
    "\n",
    "greet_user('Shamiul')"
   ]
  },
  {
   "cell_type": "code",
   "execution_count": 4,
   "id": "1982af3e-5cbf-4f66-b46c-a10b8bcfb408",
   "metadata": {},
   "outputs": [
    {
     "name": "stdout",
     "output_type": "stream",
     "text": [
      "sum: 20\n"
     ]
    }
   ],
   "source": [
    "# Function with return value\n",
    "\n",
    "def add_numbers(a, b):\n",
    "    return a + b\n",
    "\n",
    "result = add_numbers(10, 10)\n",
    "print(f\"sum: {result}\")"
   ]
  },
  {
   "cell_type": "code",
   "execution_count": null,
   "id": "de12257d-6e65-4f60-b276-eb3431b5ed51",
   "metadata": {},
   "outputs": [],
   "source": []
  }
 ],
 "metadata": {
  "kernelspec": {
   "display_name": "Python 3 (ipykernel)",
   "language": "python",
   "name": "python3"
  },
  "language_info": {
   "codemirror_mode": {
    "name": "ipython",
    "version": 3
   },
   "file_extension": ".py",
   "mimetype": "text/x-python",
   "name": "python",
   "nbconvert_exporter": "python",
   "pygments_lexer": "ipython3",
   "version": "3.13.5"
  }
 },
 "nbformat": 4,
 "nbformat_minor": 5
}
