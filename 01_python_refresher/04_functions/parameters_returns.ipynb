{
 "cells": [
  {
   "cell_type": "code",
   "execution_count": 5,
   "id": "af6372bf-5503-4861-af2d-1503c46c920d",
   "metadata": {},
   "outputs": [
    {
     "name": "stdout",
     "output_type": "stream",
     "text": [
      "My name is shamiul, and i'm from Bangladesh\n",
      "My name is alex, and i'm from canada\n"
     ]
    }
   ],
   "source": [
    "# Default and keyword arguments\n",
    "def introduce(name, country = 'Bangladesh'):\n",
    "    print(f\"My name is {name}, and i'm from {country}\")\n",
    "\n",
    "introduce('shamiul')\n",
    "introduce('alex', country='canada')"
   ]
  },
  {
   "cell_type": "code",
   "execution_count": 7,
   "id": "d195511d-0730-46c0-bd6c-6f0200089655",
   "metadata": {},
   "outputs": [
    {
     "name": "stdout",
     "output_type": "stream",
     "text": [
      "Sum: 9, Product: 20\n"
     ]
    }
   ],
   "source": [
    "# Return multiple values\n",
    "def math_operations(a, b):\n",
    "    sum_ = a+b\n",
    "    product = a*b\n",
    "    return sum_, product\n",
    "\n",
    "total, prod = math_operations(4,5)\n",
    "print(f\"Sum: {total}, Product: {prod}\")"
   ]
  },
  {
   "cell_type": "code",
   "execution_count": 8,
   "id": "791ee43b-bde0-4785-832e-54f5fcf77ff0",
   "metadata": {},
   "outputs": [
    {
     "name": "stdout",
     "output_type": "stream",
     "text": [
      "I'm global\n",
      "I'm Local\n"
     ]
    }
   ],
   "source": [
    "# variable scope\n",
    "\n",
    "globar_var = \"I'm global\"\n",
    "\n",
    "def test_scope():\n",
    "    local_var = \"I'm Local\"\n",
    "    print(globar_var)\n",
    "    print(local_var)\n",
    "test_scope()"
   ]
  },
  {
   "cell_type": "code",
   "execution_count": null,
   "id": "64ce15b2-2d11-4056-aebe-a6a51574cfc6",
   "metadata": {},
   "outputs": [],
   "source": []
  }
 ],
 "metadata": {
  "kernelspec": {
   "display_name": "Python 3 (ipykernel)",
   "language": "python",
   "name": "python3"
  },
  "language_info": {
   "codemirror_mode": {
    "name": "ipython",
    "version": 3
   },
   "file_extension": ".py",
   "mimetype": "text/x-python",
   "name": "python",
   "nbconvert_exporter": "python",
   "pygments_lexer": "ipython3",
   "version": "3.13.5"
  }
 },
 "nbformat": 4,
 "nbformat_minor": 5
}
