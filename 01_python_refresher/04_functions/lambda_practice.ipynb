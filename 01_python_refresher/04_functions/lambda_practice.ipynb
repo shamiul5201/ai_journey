{
 "cells": [
  {
   "cell_type": "markdown",
   "id": "db55541c-b367-4e86-9f12-e5893f2c7862",
   "metadata": {},
   "source": [
    "## Exercise 1 — Square all numbers using map()\n",
    "\n",
    "#### 🎯 Goal: Given a list of numbers, return a list of their squares."
   ]
  },
  {
   "cell_type": "code",
   "execution_count": 1,
   "id": "382caa60-3c15-4e9f-86c1-f6200da7e075",
   "metadata": {},
   "outputs": [
    {
     "name": "stdout",
     "output_type": "stream",
     "text": [
      "[1, 4, 9, 16, 25]\n"
     ]
    }
   ],
   "source": [
    "numbers = [1, 2, 3, 4, 5]\n",
    "\n",
    "squares = list(map(lambda x: x ** 2, numbers))\n",
    "\n",
    "print(squares)"
   ]
  },
  {
   "cell_type": "markdown",
   "id": "2046b824-ab57-414f-8fde-660d285357ab",
   "metadata": {},
   "source": [
    "## Exercise 2 — Filter even numbers using filter()\n",
    "\n",
    "#### Goal: Keep only even numbers from a list."
   ]
  },
  {
   "cell_type": "code",
   "execution_count": 2,
   "id": "191239a3-23fe-49de-98f7-1e5e82cae6d7",
   "metadata": {},
   "outputs": [
    {
     "name": "stdout",
     "output_type": "stream",
     "text": [
      "[10, 20, 30]\n"
     ]
    }
   ],
   "source": [
    "numbers = [10, 15, 20, 25, 30]\n",
    "\n",
    "evens = list(filter(lambda x: x % 2 == 0, numbers))\n",
    "\n",
    "print(evens)"
   ]
  },
  {
   "cell_type": "markdown",
   "id": "7b0d7394-248a-4095-97c7-d542e53c32b2",
   "metadata": {},
   "source": [
    "## Exercise 3 — Sort by string length\n",
    "#### Goal: Sort a list of words by their length."
   ]
  },
  {
   "cell_type": "code",
   "execution_count": 3,
   "id": "a1b8ad89-5478-44c9-adb2-1f5a76beb266",
   "metadata": {},
   "outputs": [
    {
     "name": "stdout",
     "output_type": "stream",
     "text": [
      "['is', 'fun', 'Python', 'awesome']\n"
     ]
    }
   ],
   "source": [
    "words = [\"Python\", \"is\", \"awesome\", \"fun\"]\n",
    "\n",
    "sorted_words = sorted(words, key = lambda w: len(w))\n",
    "\n",
    "print(sorted_words)"
   ]
  },
  {
   "cell_type": "markdown",
   "id": "72436e0b-c7b9-4184-9af6-118c8ef890ec",
   "metadata": {},
   "source": [
    "## Exercise 4 — Extract specific field from dicts\n",
    "#### Goal: Given a list of people, extract their names using map()."
   ]
  },
  {
   "cell_type": "code",
   "execution_count": 4,
   "id": "1ea08375-56a3-4c94-9c9d-c0955bdf7b64",
   "metadata": {},
   "outputs": [
    {
     "name": "stdout",
     "output_type": "stream",
     "text": [
      "['shamiul', 'alex', 'maya']\n"
     ]
    }
   ],
   "source": [
    "people = [\n",
    "    {'name': 'shamiul', 'age': 28},\n",
    "    {'name': 'alex', 'age': 32},\n",
    "    {'name': 'maya', 'age': 25}\n",
    "]\n",
    "\n",
    "names = list(map(lambda person: person[\"name\"], people))\n",
    "print(names)"
   ]
  },
  {
   "cell_type": "markdown",
   "id": "fe19809a-c632-4958-8f4e-50d2b6b0e5ba",
   "metadata": {},
   "source": [
    "## Exercise 5 — Combine map + filter\n",
    "\n",
    "#### Goal: From a list of numbers, first filter even numbers, then square them."
   ]
  },
  {
   "cell_type": "code",
   "execution_count": 5,
   "id": "387abbdd-0bb8-48db-8a63-ad31a5fcb100",
   "metadata": {},
   "outputs": [
    {
     "name": "stdout",
     "output_type": "stream",
     "text": [
      "[4, 16, 36]\n"
     ]
    }
   ],
   "source": [
    "numbers = [1, 2, 3, 4, 5, 6]\n",
    "\n",
    "even_squares = list(\n",
    "    map(lambda x: x ** 2, filter(lambda x: x % 2 ==0, numbers))\n",
    ")\n",
    "\n",
    "print(even_squares)"
   ]
  },
  {
   "cell_type": "code",
   "execution_count": null,
   "id": "3f566de3-320c-4526-b368-b86c7694f408",
   "metadata": {},
   "outputs": [],
   "source": []
  }
 ],
 "metadata": {
  "kernelspec": {
   "display_name": "Python 3 (ipykernel)",
   "language": "python",
   "name": "python3"
  },
  "language_info": {
   "codemirror_mode": {
    "name": "ipython",
    "version": 3
   },
   "file_extension": ".py",
   "mimetype": "text/x-python",
   "name": "python",
   "nbconvert_exporter": "python",
   "pygments_lexer": "ipython3",
   "version": "3.13.5"
  }
 },
 "nbformat": 4,
 "nbformat_minor": 5
}
