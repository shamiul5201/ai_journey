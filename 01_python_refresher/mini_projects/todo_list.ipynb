{
 "cells": [
  {
   "cell_type": "code",
   "execution_count": null,
   "id": "1532139a-931f-424f-bfa7-e20f9b8112cb",
   "metadata": {},
   "outputs": [
    {
     "name": "stdout",
     "output_type": "stream",
     "text": [
      "\n",
      "--- To-Do List ---\n",
      "1. Add task\n",
      "2. View tasks\n",
      "3. Remove task\n",
      "4. Exit\n"
     ]
    },
    {
     "name": "stdin",
     "output_type": "stream",
     "text": [
      "Choose an option 1\n",
      "Enter new task going to gym\n"
     ]
    },
    {
     "name": "stdout",
     "output_type": "stream",
     "text": [
      "Added: going to gym\n",
      "\n",
      "--- To-Do List ---\n",
      "1. Add task\n",
      "2. View tasks\n",
      "3. Remove task\n",
      "4. Exit\n"
     ]
    },
    {
     "name": "stdin",
     "output_type": "stream",
     "text": [
      "Choose an option 1\n",
      "Enter new task cleaning the desk\n"
     ]
    },
    {
     "name": "stdout",
     "output_type": "stream",
     "text": [
      "Added: cleaning the desk\n",
      "\n",
      "--- To-Do List ---\n",
      "1. Add task\n",
      "2. View tasks\n",
      "3. Remove task\n",
      "4. Exit\n"
     ]
    },
    {
     "name": "stdin",
     "output_type": "stream",
     "text": [
      "Choose an option 1\n",
      "Enter new task add extra features in python\n"
     ]
    },
    {
     "name": "stdout",
     "output_type": "stream",
     "text": [
      "Added: add extra features in python\n",
      "\n",
      "--- To-Do List ---\n",
      "1. Add task\n",
      "2. View tasks\n",
      "3. Remove task\n",
      "4. Exit\n"
     ]
    },
    {
     "name": "stdin",
     "output_type": "stream",
     "text": [
      "Choose an option 2\n"
     ]
    },
    {
     "name": "stdout",
     "output_type": "stream",
     "text": [
      "\n",
      "Your tasks:\n",
      "1.going to gym\n",
      "2.cleaning the desk\n",
      "3.add extra features in python\n",
      "\n",
      "--- To-Do List ---\n",
      "1. Add task\n",
      "2. View tasks\n",
      "3. Remove task\n",
      "4. Exit\n"
     ]
    },
    {
     "name": "stdin",
     "output_type": "stream",
     "text": [
      "Choose an option 3\n",
      "Enter task number to remove:  2\n"
     ]
    },
    {
     "name": "stdout",
     "output_type": "stream",
     "text": [
      "Removed: cleaning the desk\n",
      "\n",
      "--- To-Do List ---\n",
      "1. Add task\n",
      "2. View tasks\n",
      "3. Remove task\n",
      "4. Exit\n"
     ]
    },
    {
     "name": "stdin",
     "output_type": "stream",
     "text": [
      "Choose an option 3\n",
      "Enter task number to remove:  1\n"
     ]
    },
    {
     "name": "stdout",
     "output_type": "stream",
     "text": [
      "Removed: going to gym\n",
      "\n",
      "--- To-Do List ---\n",
      "1. Add task\n",
      "2. View tasks\n",
      "3. Remove task\n",
      "4. Exit\n"
     ]
    }
   ],
   "source": [
    "tasks = []\n",
    "\n",
    "while True:\n",
    "    print(\"\\n--- To-Do List ---\")\n",
    "    print(\"1. Add task\")\n",
    "    print(\"2. View tasks\")\n",
    "    print(\"3. Remove task\")\n",
    "    print(\"4. Exit\")\n",
    "\n",
    "    choice = input(\"Choose an option\")\n",
    "\n",
    "    if choice == \"1\":\n",
    "        task = input(\"Enter new task\")\n",
    "        tasks.append(task)\n",
    "        print(f\"Added: {task}\")\n",
    "        \n",
    "    elif choice == \"2\":\n",
    "        print(\"\\nYour tasks:\")\n",
    "        for i, task in enumerate(tasks, 1):\n",
    "            print(f\"{i}.{task}\")\n",
    "    elif choice == \"3\":\n",
    "        index = int(input(\"Enter task number to remove: \")) - 1\n",
    "        if 0 <= index < len(tasks):\n",
    "            removed = tasks.pop(index)\n",
    "            print(f\"Removed: {removed}\")\n",
    "        else:\n",
    "            print(\"invalid task number.\")\n",
    "\n",
    "    elif choice == \"4\":\n",
    "        print(\"Goodbye\")\n",
    "        break\n",
    "\n",
    "    else:\n",
    "        print(\"Invalid choice, Try again\")\n",
    "        "
   ]
  },
  {
   "cell_type": "code",
   "execution_count": null,
   "id": "7525daf2-9efa-4880-b4af-045831d9a9ab",
   "metadata": {},
   "outputs": [],
   "source": []
  }
 ],
 "metadata": {
  "kernelspec": {
   "display_name": "Python 3 (ipykernel)",
   "language": "python",
   "name": "python3"
  },
  "language_info": {
   "codemirror_mode": {
    "name": "ipython",
    "version": 3
   },
   "file_extension": ".py",
   "mimetype": "text/x-python",
   "name": "python",
   "nbconvert_exporter": "python",
   "pygments_lexer": "ipython3",
   "version": "3.13.5"
  }
 },
 "nbformat": 4,
 "nbformat_minor": 5
}
