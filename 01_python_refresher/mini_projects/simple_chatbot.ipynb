{
 "cells": [
  {
   "cell_type": "markdown",
   "id": "35954078-bd0d-465a-948f-e45b463ebbeb",
   "metadata": {},
   "source": [
    "## Simple Chatbot (Rule = based)"
   ]
  },
  {
   "cell_type": "code",
   "execution_count": 1,
   "id": "175b4fe5-3481-4e98-a9b1-f6722d73c9e5",
   "metadata": {
    "scrolled": true
   },
   "outputs": [
    {
     "name": "stdout",
     "output_type": "stream",
     "text": [
      "Type 'bye' to exit\n"
     ]
    },
    {
     "name": "stdin",
     "output_type": "stream",
     "text": [
      "You:  hi\n"
     ]
    },
    {
     "name": "stdout",
     "output_type": "stream",
     "text": [
      "Bot: Sorry, I don't Understand that yet\n"
     ]
    },
    {
     "name": "stdin",
     "output_type": "stream",
     "text": [
      "You:  hello\n"
     ]
    },
    {
     "name": "stdout",
     "output_type": "stream",
     "text": [
      "Bot Hi there! how can i help you?\n"
     ]
    },
    {
     "name": "stdin",
     "output_type": "stream",
     "text": [
      "You:  how are you\n"
     ]
    },
    {
     "name": "stdout",
     "output_type": "stream",
     "text": [
      "Bot I'm just code, but I'm doing great\n"
     ]
    },
    {
     "name": "stdin",
     "output_type": "stream",
     "text": [
      "You:  vye\n"
     ]
    },
    {
     "name": "stdout",
     "output_type": "stream",
     "text": [
      "Bot: Sorry, I don't Understand that yet\n"
     ]
    },
    {
     "name": "stdin",
     "output_type": "stream",
     "text": [
      "You:  bye\n"
     ]
    },
    {
     "name": "stdout",
     "output_type": "stream",
     "text": [
      "Bot: Goodbye! have a great day\n"
     ]
    }
   ],
   "source": [
    "response = {\n",
    "    \"hello\" : \"Hi there! how can i help you?\",\n",
    "    \"how are you\": \"I'm just code, but I'm doing great\",\n",
    "    \"bye\": \"Goodbye! have a great day\"\n",
    "}\n",
    "\n",
    "print(\"Type 'bye' to exit\")\n",
    "\n",
    "while True:\n",
    "    user_input = input(\"You: \").lower() \n",
    "\n",
    "    if user_input == \"bye\":\n",
    "        print(\"Bot:\", response[\"bye\"])\n",
    "        break\n",
    "    elif user_input in response:\n",
    "        print(\"Bot\", response[user_input])\n",
    "    else:\n",
    "        print(\"Bot: Sorry, I don't Understand that yet\")\n",
    "        "
   ]
  },
  {
   "cell_type": "code",
   "execution_count": null,
   "id": "efc8afbd-464b-4d55-bc02-f9a5e4a4d390",
   "metadata": {},
   "outputs": [],
   "source": []
  }
 ],
 "metadata": {
  "kernelspec": {
   "display_name": "Python 3 (ipykernel)",
   "language": "python",
   "name": "python3"
  },
  "language_info": {
   "codemirror_mode": {
    "name": "ipython",
    "version": 3
   },
   "file_extension": ".py",
   "mimetype": "text/x-python",
   "name": "python",
   "nbconvert_exporter": "python",
   "pygments_lexer": "ipython3",
   "version": "3.13.5"
  }
 },
 "nbformat": 4,
 "nbformat_minor": 5
}
