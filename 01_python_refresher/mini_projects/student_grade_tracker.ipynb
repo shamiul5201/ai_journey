{
 "cells": [
  {
   "cell_type": "markdown",
   "id": "e04158ae-47e9-4e9d-8095-8230fad57314",
   "metadata": {},
   "source": [
    "## Project 1: Student grade tracker\n",
    "#### Let a user enter student names and marks, store them in a dictionary, calculate the average, and show grades."
   ]
  },
  {
   "cell_type": "code",
   "execution_count": null,
   "id": "4d490c66-f672-43c1-b425-c33f680808ab",
   "metadata": {},
   "outputs": [
    {
     "name": "stdin",
     "output_type": "stream",
     "text": [
      "How many students 10\n",
      "Enter name of student 1: asib\n",
      "Enter marks for asib:  56\n",
      "Enter name of student 2: mysha\n",
      "Enter marks for mysha:  65\n",
      "Enter name of student 3: rajib\n",
      "Enter marks for rajib:  79\n",
      "Enter name of student 4: duke\n"
     ]
    }
   ],
   "source": [
    "students = {}\n",
    "\n",
    "num_students = int(input(\"How many students\"))\n",
    "\n",
    "for i in range(num_students):\n",
    "    name = input(f\"Enter name of student {i + 1}:\")\n",
    "    marks = int(input(f\"Enter marks for {name}: \"))\n",
    "    students[name] = marks\n",
    "    \n",
    "print(f\"\\n--- Results ---\")\n",
    "\n",
    "total = 0\n",
    "\n",
    "for name, marks in students.items():\n",
    "    total += marks\n",
    "    grade = \"A\" if marks >= 80 else \"B\" if marks >= 60 else \"C\"\n",
    "    print(f\"{name} : {marks} -> Grade {grade}\")\n",
    "\n",
    "avg =  total / len(students)\n",
    "print(f\"\\nClass Average: {avg: .2f}\")"
   ]
  },
  {
   "cell_type": "code",
   "execution_count": null,
   "id": "351c0e9f-e811-44e9-ad22-2422a005f319",
   "metadata": {},
   "outputs": [],
   "source": []
  }
 ],
 "metadata": {
  "kernelspec": {
   "display_name": "Python 3 (ipykernel)",
   "language": "python",
   "name": "python3"
  },
  "language_info": {
   "codemirror_mode": {
    "name": "ipython",
    "version": 3
   },
   "file_extension": ".py",
   "mimetype": "text/x-python",
   "name": "python",
   "nbconvert_exporter": "python",
   "pygments_lexer": "ipython3",
   "version": "3.13.5"
  }
 },
 "nbformat": 4,
 "nbformat_minor": 5
}
