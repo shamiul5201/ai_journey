{
 "cells": [
  {
   "cell_type": "code",
   "execution_count": 3,
   "id": "db4a6920-53c7-43e5-bf02-31ddec7ee9bd",
   "metadata": {},
   "outputs": [
    {
     "name": "stdout",
     "output_type": "stream",
     "text": [
      "Guess the number (1 - 10)\n"
     ]
    },
    {
     "name": "stdin",
     "output_type": "stream",
     "text": [
      "Your guess:  5\n"
     ]
    },
    {
     "name": "stdout",
     "output_type": "stream",
     "text": [
      "Too high! Try again\n"
     ]
    },
    {
     "name": "stdin",
     "output_type": "stream",
     "text": [
      "Your guess:  4\n"
     ]
    },
    {
     "name": "stdout",
     "output_type": "stream",
     "text": [
      "Too high! Try again\n"
     ]
    },
    {
     "name": "stdin",
     "output_type": "stream",
     "text": [
      "Your guess:  3\n"
     ]
    },
    {
     "name": "stdout",
     "output_type": "stream",
     "text": [
      "Correct! you guessed it in 3 attempts\n"
     ]
    }
   ],
   "source": [
    "import random\n",
    "\n",
    "secret = random.randint(1, 10)\n",
    "attempts = 0\n",
    "\n",
    "#print(f\"The secret number is {secret}\")\n",
    "\n",
    "print(\"Guess the number (1 - 10)\")\n",
    "\n",
    "while True:\n",
    "    guess = int(input(\"Your guess: \"))\n",
    "    attempts += 1\n",
    "\n",
    "    if guess == secret:\n",
    "        print(f\"Correct! you guessed it in {attempts} attempts\")\n",
    "        break\n",
    "    elif guess < secret:\n",
    "        print('Too low! Try again')\n",
    "    else:\n",
    "        print(\"Too high! Try again\")\n",
    "        "
   ]
  },
  {
   "cell_type": "code",
   "execution_count": null,
   "id": "ae8a0875-98b1-4f9b-ab59-06a9f05b8fb7",
   "metadata": {},
   "outputs": [],
   "source": []
  }
 ],
 "metadata": {
  "kernelspec": {
   "display_name": "Python 3 (ipykernel)",
   "language": "python",
   "name": "python3"
  },
  "language_info": {
   "codemirror_mode": {
    "name": "ipython",
    "version": 3
   },
   "file_extension": ".py",
   "mimetype": "text/x-python",
   "name": "python",
   "nbconvert_exporter": "python",
   "pygments_lexer": "ipython3",
   "version": "3.13.5"
  }
 },
 "nbformat": 4,
 "nbformat_minor": 5
}
