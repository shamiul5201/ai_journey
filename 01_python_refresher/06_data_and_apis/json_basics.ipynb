{
 "cells": [
  {
   "cell_type": "markdown",
   "id": "5fa45783-9bfd-46d5-9b85-8043c644d3cd",
   "metadata": {},
   "source": [
    "# Converting between python and json(serialize / deserialize)"
   ]
  },
  {
   "cell_type": "code",
   "execution_count": 1,
   "id": "29459bed-ebf1-44f8-bbeb-bba160c2bac9",
   "metadata": {},
   "outputs": [],
   "source": [
    "import json"
   ]
  },
  {
   "cell_type": "code",
   "execution_count": 3,
   "id": "bfd9d53a-f3ce-4f71-8081-0e831d2c606c",
   "metadata": {},
   "outputs": [],
   "source": [
    "# python dict\n",
    "person = {\n",
    "    \"name\": \"Shamiul\",\n",
    "    \"age\" : 28,\n",
    "    \"skills\": [\"Python\", \"FastAPI\", \"Flutter\"],\n",
    "    \"isFounder\" : True\n",
    "}"
   ]
  },
  {
   "cell_type": "code",
   "execution_count": 4,
   "id": "f8230903-41c4-4f12-9063-bb24c426b39d",
   "metadata": {},
   "outputs": [
    {
     "name": "stdout",
     "output_type": "stream",
     "text": [
      "Python -> JSON\n",
      "{\n",
      "    \"name\": \"Shamiul\",\n",
      "    \"age\": 28,\n",
      "    \"skills\": [\n",
      "        \"Python\",\n",
      "        \"FastAPI\",\n",
      "        \"Flutter\"\n",
      "    ],\n",
      "    \"isFounder\": true\n",
      "}\n"
     ]
    }
   ],
   "source": [
    "# Convert Python -> JSON (Serialize)\n",
    "person_json = json.dumps(person, indent=4) # json.dumps convert python object to json files\n",
    "print(\"Python -> JSON\")\n",
    "print(person_json)"
   ]
  },
  {
   "cell_type": "code",
   "execution_count": 5,
   "id": "62dd0544-78de-400e-9ca2-e25d6d1f052a",
   "metadata": {},
   "outputs": [
    {
     "name": "stdout",
     "output_type": "stream",
     "text": [
      "\n",
      "Json -> Python\n",
      "{'name': 'Shamiul', 'age': 28, 'skills': ['Python', 'FastAPI', 'Flutter'], 'isFounder': True}\n",
      "<class 'dict'>\n"
     ]
    }
   ],
   "source": [
    "# Convert Python -> JSON (Deserialize)\n",
    "person_dict = json.loads(person_json) # convert json string to python object\n",
    "print(\"\\nJson -> Python\")\n",
    "print(person_dict)\n",
    "print(type(person_dict))"
   ]
  },
  {
   "cell_type": "markdown",
   "id": "231bac0a-52c8-4c75-8371-c13d2e0dcd50",
   "metadata": {},
   "source": [
    "# Saving and Reading JSON Files"
   ]
  },
  {
   "cell_type": "code",
   "execution_count": 6,
   "id": "6cf24fc6-bec7-4afd-bf4c-bcdfa69e1b54",
   "metadata": {},
   "outputs": [],
   "source": [
    "data = {\n",
    "    \"users\" : [\n",
    "        {\"id\": 1, \"name\": \"Shamiul\"},\n",
    "        {\"id\": 2, \"name\":\"Alex\"}\n",
    "    ]\n",
    "}\n"
   ]
  },
  {
   "cell_type": "code",
   "execution_count": 7,
   "id": "b915d59e-832d-4f08-b06e-99514971bb55",
   "metadata": {},
   "outputs": [
    {
     "name": "stdout",
     "output_type": "stream",
     "text": [
      "Data saved to users.json\n"
     ]
    }
   ],
   "source": [
    "# save to json file\n",
    "with open(\"users.json\", \"w\") as file:\n",
    "    json.dump(data, file, indent=4)   # write python object directly to a json file\n",
    "\n",
    "print(\"Data saved to users.json\")"
   ]
  },
  {
   "cell_type": "code",
   "execution_count": 9,
   "id": "2d3a3990-7fbc-431e-9e53-291b7253d5a9",
   "metadata": {},
   "outputs": [
    {
     "name": "stdout",
     "output_type": "stream",
     "text": [
      "\n",
      "Loaded from file\n",
      "{'users': [{'id': 1, 'name': 'Shamiul'}, {'id': 2, 'name': 'Alex'}]}\n"
     ]
    }
   ],
   "source": [
    "# Read back from file\n",
    "with open(\"users.json\", \"r\") as file:\n",
    "    loaded_data = json.load(file)\n",
    "\n",
    "print(\"\\nLoaded from file\")\n",
    "print(loaded_data)"
   ]
  },
  {
   "cell_type": "markdown",
   "id": "c697f16d-2b2b-4149-b025-54cc80972a17",
   "metadata": {},
   "source": [
    "# Working with Json Arrays(Lists)"
   ]
  },
  {
   "cell_type": "code",
   "execution_count": 10,
   "id": "c22eb553-f43b-4ac0-a6b2-d8ea23ce0042",
   "metadata": {},
   "outputs": [],
   "source": [
    "json_data = '''\n",
    "[\n",
    "    {\"name\": \"Shamiul\", \"country\": \"Bangladesh\"},\n",
    "    {\"name\": \"Alex\", \"country\": \"Canada\"}\n",
    "]\n",
    "'''"
   ]
  },
  {
   "cell_type": "code",
   "execution_count": 11,
   "id": "b26160ea-8d31-40f2-8be9-0262de131bbf",
   "metadata": {},
   "outputs": [],
   "source": [
    "people = json.loads(json_data)"
   ]
  },
  {
   "cell_type": "code",
   "execution_count": 12,
   "id": "249d1006-3e19-43a1-9c7a-2272cf3ed8a8",
   "metadata": {},
   "outputs": [
    {
     "name": "stdout",
     "output_type": "stream",
     "text": [
      "Shamiul is from Bangladesh\n",
      "Alex is from Canada\n"
     ]
    }
   ],
   "source": [
    "# loop through json\n",
    "for person in people:\n",
    "    print(f\"{person['name']} is from {person['country']}\")"
   ]
  },
  {
   "cell_type": "markdown",
   "id": "c44f4d0f-ab8c-4f8d-b7df-cbd064c6a456",
   "metadata": {},
   "source": [
    "# Nested json accees"
   ]
  },
  {
   "cell_type": "code",
   "execution_count": 13,
   "id": "1ec2d19a-3c75-489e-a5ef-b552e132fe70",
   "metadata": {},
   "outputs": [],
   "source": [
    "profile_json = '''\n",
    "{\n",
    "    \"name\": \"shamiul\",\n",
    "    \"projects\": {\n",
    "        \"app\": \"AI speaking practice\",\n",
    "        \"backend\": \"Fastapi\",\n",
    "        \"frontend\": \"flutter\"\n",
    "    }\n",
    "}\n",
    "'''"
   ]
  },
  {
   "cell_type": "code",
   "execution_count": 14,
   "id": "24d51737-91db-4eb2-a2d7-836e01741ef0",
   "metadata": {},
   "outputs": [],
   "source": [
    "data = json.loads(profile_json)"
   ]
  },
  {
   "cell_type": "code",
   "execution_count": 15,
   "id": "f2e330b0-e65a-42cd-9813-48169774e149",
   "metadata": {},
   "outputs": [
    {
     "name": "stdout",
     "output_type": "stream",
     "text": [
      "AI speaking practice\n",
      "Fastapi\n"
     ]
    }
   ],
   "source": [
    "print(data[\"projects\"][\"app\"])\n",
    "print(data[\"projects\"][\"backend\"])"
   ]
  },
  {
   "cell_type": "code",
   "execution_count": null,
   "id": "a13ba271-6931-4dc9-aa4a-603fb5858dd3",
   "metadata": {},
   "outputs": [],
   "source": []
  }
 ],
 "metadata": {
  "kernelspec": {
   "display_name": "Python 3 (ipykernel)",
   "language": "python",
   "name": "python3"
  },
  "language_info": {
   "codemirror_mode": {
    "name": "ipython",
    "version": 3
   },
   "file_extension": ".py",
   "mimetype": "text/x-python",
   "name": "python",
   "nbconvert_exporter": "python",
   "pygments_lexer": "ipython3",
   "version": "3.13.5"
  }
 },
 "nbformat": 4,
 "nbformat_minor": 5
}
