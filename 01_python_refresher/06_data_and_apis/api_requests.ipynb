{
 "cells": [
  {
   "cell_type": "markdown",
   "id": "298f071a-a7f9-4556-9d15-26bab7ef7d3c",
   "metadata": {},
   "source": [
    "# Simple get requenst"
   ]
  },
  {
   "cell_type": "code",
   "execution_count": 5,
   "id": "b1ad0629-8e74-4b82-b372-1fc031508b7d",
   "metadata": {},
   "outputs": [],
   "source": [
    "import requests\n",
    "import json"
   ]
  },
  {
   "cell_type": "code",
   "execution_count": 2,
   "id": "8c828557-256f-416a-a6fa-e7dd9c69b885",
   "metadata": {},
   "outputs": [],
   "source": [
    "url = \"https://randomuser.me/api/\"\n",
    "\n",
    "response = requests.get(url)"
   ]
  },
  {
   "cell_type": "code",
   "execution_count": 3,
   "id": "1e83b0fe-4ad5-4c36-82d0-bfc113e7049b",
   "metadata": {},
   "outputs": [
    {
     "name": "stdout",
     "output_type": "stream",
     "text": [
      "status code:  200\n"
     ]
    }
   ],
   "source": [
    "print(\"status code: \", response.status_code )"
   ]
  },
  {
   "cell_type": "code",
   "execution_count": 4,
   "id": "60829ad4-ce6c-4aff-a64d-a8b4266b455b",
   "metadata": {},
   "outputs": [],
   "source": [
    "#convet response to json\n",
    "data = response.json()"
   ]
  },
  {
   "cell_type": "code",
   "execution_count": 6,
   "id": "5487cd07-fd18-49d5-b1a4-0338b5c19cf0",
   "metadata": {},
   "outputs": [
    {
     "name": "stdout",
     "output_type": "stream",
     "text": [
      "{\n",
      "    \"results\": [\n",
      "        {\n",
      "            \"gender\": \"female\",\n",
      "            \"name\": {\n",
      "                \"title\": \"Miss\",\n",
      "                \"first\": \"Romana\",\n",
      "                \"last\": \"Schug\"\n",
      "            },\n",
      "            \"location\": {\n",
      "                \"street\": {\n",
      "                    \"number\": 5762,\n",
      "                    \"name\": \"Tulpenweg\"\n",
      "                },\n",
      "                \"city\": \"Rottal-Inn\",\n",
      "                \"state\": \"Niedersachsen\",\n",
      "                \"country\": \"Germany\",\n",
      "                \"postcode\": 47561,\n",
      "                \"coordinates\": {\n",
      "                    \"latitude\": \"-55.1930\",\n",
      "                    \"longitude\": \"78.9037\"\n",
      "                },\n",
      "                \"timezone\": {\n",
      "                    \"offset\": \"-9:00\",\n",
      "                    \"description\": \"Alaska\"\n",
      "                }\n",
      "            },\n",
      "            \"email\": \"romana.schug@example.com\",\n",
      "            \"login\": {\n",
      "                \"uuid\": \"dc219eb8-6c9d-416e-92d0-bd6ac210a9a2\",\n",
      "                \"username\": \"angrypanda840\",\n",
      "                \"password\": \"straight\",\n",
      "                \"salt\": \"XJZez4vk\",\n",
      "                \"md5\": \"b7e9a3b873b59472a73ee1e4731bbec5\",\n",
      "                \"sha1\": \"7d7909a78bafcd5722bf63753531ddc51c13278a\",\n",
      "                \"sha256\": \"4c02828135736e820159ad2f632971c4b4cedda4149f5b1aea9078940ea2aaf6\"\n",
      "            },\n",
      "            \"dob\": {\n",
      "                \"date\": \"1967-09-22T22:44:47.499Z\",\n",
      "                \"age\": 58\n",
      "            },\n",
      "            \"registered\": {\n",
      "                \"date\": \"2015-12-30T11:42:25.034Z\",\n",
      "                \"age\": 9\n",
      "            },\n",
      "            \"phone\": \"0100-6561849\",\n",
      "            \"cell\": \"0179-9463231\",\n",
      "            \"id\": {\n",
      "                \"name\": \"SVNR\",\n",
      "                \"value\": \"04 220967 S 941\"\n",
      "            },\n",
      "            \"picture\": {\n",
      "                \"large\": \"https://randomuser.me/api/portraits/women/75.jpg\",\n",
      "                \"medium\": \"https://randomuser.me/api/portraits/med/women/75.jpg\",\n",
      "                \"thumbnail\": \"https://randomuser.me/api/portraits/thumb/women/75.jpg\"\n",
      "            },\n",
      "            \"nat\": \"DE\"\n",
      "        }\n",
      "    ],\n",
      "    \"info\": {\n",
      "        \"seed\": \"31689f446f287067\",\n",
      "        \"results\": 1,\n",
      "        \"page\": 1,\n",
      "        \"version\": \"1.4\"\n",
      "    }\n",
      "}\n"
     ]
    }
   ],
   "source": [
    "print(json.dumps(data, indent=4))"
   ]
  },
  {
   "cell_type": "markdown",
   "id": "f3472e47-210f-4c79-87f3-4e639474c98a",
   "metadata": {},
   "source": [
    "# Access JSON Fields"
   ]
  },
  {
   "cell_type": "code",
   "execution_count": 7,
   "id": "da5246ca-05a5-4bd0-b260-7c3c864d7355",
   "metadata": {},
   "outputs": [
    {
     "name": "stdout",
     "output_type": "stream",
     "text": [
      "Name: Romana Schug\n",
      "Country: Germany\n"
     ]
    }
   ],
   "source": [
    "user = data[\"results\"][0]\n",
    "name = user[\"name\"]\n",
    "location = user[\"location\"]\n",
    "\n",
    "print(f\"Name: {name['first']} {name['last']}\")\n",
    "print(f\"Country: {location['country']}\")"
   ]
  },
  {
   "cell_type": "markdown",
   "id": "e095f0c9-12d4-4f49-80a9-1255d6065159",
   "metadata": {},
   "source": [
    "# Sending Query Parameters (GET with Params)"
   ]
  },
  {
   "cell_type": "code",
   "execution_count": 8,
   "id": "045bdb6d-880f-4e92-92ce-7f1f0e07f1c0",
   "metadata": {},
   "outputs": [
    {
     "name": "stdout",
     "output_type": "stream",
     "text": [
      "Faycal - Netherlands\n",
      "Theodore - New Zealand\n",
      "Owen - Canada\n"
     ]
    }
   ],
   "source": [
    "url = \"https://randomuser.me/api/\"\n",
    "\n",
    "params = {\"results\": 3}\n",
    "\n",
    "response = requests.get(url, params=params)\n",
    "data = response.json()\n",
    "\n",
    "for user in data[\"results\"]:\n",
    "    print(user[\"name\"][\"first\"], \"-\", user[\"location\"][\"country\"])"
   ]
  },
  {
   "cell_type": "markdown",
   "id": "4c665401-5d9c-4741-adec-d949dd721290",
   "metadata": {},
   "source": [
    "# Post request with data"
   ]
  },
  {
   "cell_type": "code",
   "execution_count": 10,
   "id": "ec926a6a-e7de-4b4d-ac56-b158712253f8",
   "metadata": {},
   "outputs": [
    {
     "name": "stdout",
     "output_type": "stream",
     "text": [
      "Status code:  200\n",
      "Response Json:\n",
      "{\n",
      "    \"args\": {},\n",
      "    \"data\": \"{\\\"username\\\": \\\"shamiul\\\", \\\"language\\\": \\\"python\\\", \\\"role\\\": \\\"founder\\\"}\",\n",
      "    \"files\": {},\n",
      "    \"form\": {},\n",
      "    \"headers\": {\n",
      "        \"Accept\": \"*/*\",\n",
      "        \"Accept-Encoding\": \"gzip, deflate, br, zstd\",\n",
      "        \"Content-Length\": \"64\",\n",
      "        \"Content-Type\": \"application/json\",\n",
      "        \"Host\": \"httpbin.org\",\n",
      "        \"User-Agent\": \"python-requests/2.32.3\",\n",
      "        \"X-Amzn-Trace-Id\": \"Root=1-69025d33-6ef969201b199d5e59800239\"\n",
      "    },\n",
      "    \"json\": {\n",
      "        \"language\": \"python\",\n",
      "        \"role\": \"founder\",\n",
      "        \"username\": \"shamiul\"\n",
      "    },\n",
      "    \"origin\": \"185.111.174.45\",\n",
      "    \"url\": \"https://httpbin.org/post\"\n",
      "}\n"
     ]
    }
   ],
   "source": [
    "url = \"https://httpbin.org/post\"\n",
    "\n",
    "payload = {\n",
    "    \"username\" : \"shamiul\",\n",
    "    \"language\" : \"python\",\n",
    "    \"role\" : \"founder\"\n",
    "}\n",
    "\n",
    "response =  requests.post(url, json=payload)\n",
    "\n",
    "print(\"Status code: \", response.status_code)\n",
    "print(\"Response Json:\")\n",
    "print(json.dumps(response.json(), indent=4))"
   ]
  },
  {
   "cell_type": "markdown",
   "id": "2cdc0bbc-6ca0-4f95-8457-d4d89300d296",
   "metadata": {},
   "source": [
    "# Error Handling (Robust Requests)"
   ]
  },
  {
   "cell_type": "code",
   "execution_count": 14,
   "id": "942aa515-065f-4b38-a967-8d1b5736f3ca",
   "metadata": {},
   "outputs": [
    {
     "name": "stdout",
     "output_type": "stream",
     "text": [
      "Http Error 404 Client Error: Not Found for url: https://api.github.com/users/shamiul-ai\n"
     ]
    }
   ],
   "source": [
    "url = \"https://api.github.com/users/shamiul-ai\"\n",
    "\n",
    "try:\n",
    "    response = requests.get(url, timeout=5)\n",
    "    response.raise_for_status()\n",
    "    data = response.json()\n",
    "    print(f\"✅ User: {data['login']} ({data['html_url']})\")\n",
    "\n",
    "except requests.exceptions.Timeout:\n",
    "    print(\"Request Timeout\")\n",
    "except requests.exceptions.HTTPError as err:\n",
    "    print(\"Http Error\", err)\n",
    "except Exception as e:\n",
    "    print(\"Unexpected error:\", e)"
   ]
  },
  {
   "cell_type": "code",
   "execution_count": 13,
   "id": "3159a8a8-5f88-4598-a48c-a768c5d70b7f",
   "metadata": {},
   "outputs": [
    {
     "name": "stdout",
     "output_type": "stream",
     "text": [
      "❌ HTTP Error: 404 Client Error: Not Found for url: https://api.github.com/users/shamiul-ai\n"
     ]
    }
   ],
   "source": [
    "import requests\n",
    "\n",
    "url = \"https://api.github.com/users/shamiul-ai\"\n",
    "\n",
    "try:\n",
    "    response = requests.get(url, timeout=5)\n",
    "    response.raise_for_status()  # raise error for 4xx or 5xx\n",
    "    data = response.json()\n",
    "    print(f\"✅ User: {data['login']} ({data['html_url']})\")\n",
    "except requests.exceptions.Timeout:\n",
    "    print(\"❌ Request timed out.\")\n",
    "except requests.exceptions.HTTPError as err:\n",
    "    print(\"❌ HTTP Error:\", err)\n",
    "except Exception as e:\n",
    "    print(\"❌ Unexpected error:\", e)\n"
   ]
  },
  {
   "cell_type": "code",
   "execution_count": null,
   "id": "c9ef4dfe-afeb-4aac-a101-3c3501283236",
   "metadata": {},
   "outputs": [],
   "source": []
  }
 ],
 "metadata": {
  "kernelspec": {
   "display_name": "Python 3 (ipykernel)",
   "language": "python",
   "name": "python3"
  },
  "language_info": {
   "codemirror_mode": {
    "name": "ipython",
    "version": 3
   },
   "file_extension": ".py",
   "mimetype": "text/x-python",
   "name": "python",
   "nbconvert_exporter": "python",
   "pygments_lexer": "ipython3",
   "version": "3.13.5"
  }
 },
 "nbformat": 4,
 "nbformat_minor": 5
}
